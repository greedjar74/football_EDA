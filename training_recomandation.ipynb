{
 "cells": [
  {
   "cell_type": "code",
   "execution_count": 1,
   "id": "cfd9784b",
   "metadata": {},
   "outputs": [],
   "source": [
    "import pandas as pd\n",
    "import numpy as np\n",
    "import matplotlib.pyplot as plt\n",
    "import seaborn as sns"
   ]
  },
  {
   "cell_type": "markdown",
   "id": "30cc2476",
   "metadata": {},
   "source": [
    "# 각 리그, 각 포지션별 선수에게 훈련 추천\n",
    "- 미리 뽑아둔 feature를 사용\n",
    "- 특정 리그에 대해서\n",
    "- 5대 리그 통합에 대해서\n",
    "\n",
    "## 작동 방식\n",
    "- 선수 입력\n",
    "- 포지션 입력\n",
    "- 리그 선택 -> BL, EPL, LL, L1, SA, 통합 중 택1\n",
    "- 해당 리그에서 선택한 포지션에 해당하는 feature에 대하여 평균치, 최대, 최소 등 통계치를 구한다.\n",
    "- 입력한 선수가 각각의 feature에 대해서 stat이 부족한지 확인하여 말해준다."
   ]
  },
  {
   "cell_type": "markdown",
   "id": "62d63674",
   "metadata": {},
   "source": [
    "## 데이터 가져오기"
   ]
  },
  {
   "cell_type": "code",
   "execution_count": 2,
   "id": "bf65ee7c",
   "metadata": {},
   "outputs": [],
   "source": [
    "league_features = {'1' :{'FW':['Assists', 'PS%', 'Goals'], \n",
    "                         'AM':['PS%', 'Goals', 'ThrB', 'SpG', 'Assists'],\n",
    "                         'M':['PS%', 'Goals', 'AvgP', 'ThrB', 'Assists'],\n",
    "                         'DM':['PS%'],\n",
    "                         'D':['PS%', 'AvgP'],\n",
    "                         'GK':['PS%', 'Dribble', 'Fouls', 'Disp']},\n",
    "                   '2' :{'FW':['Goals', 'SpG', 'PS%', 'KeyP', 'Assists'],\n",
    "                         'AM':['PS%', 'AvgP', 'Goals', 'SpG', 'Assists'],\n",
    "                         'M':['Assists', 'ThrB', 'KeyP', 'LongB', 'SpG'],\n",
    "                         'DM':['Assists', 'ThrB', 'Goals', 'KeyP'],\n",
    "                         'D':['PS%', 'AvgP', 'ThrB', 'Assists'],\n",
    "                         'GK':['PS%', 'Mins']},\n",
    "                   '3' :{'FW':['PS%', 'KeyP', 'Dribble', 'ThrB', 'SpG'],\n",
    "                         'AM':['AvgP', 'Assists', 'KeyP', 'ThrB', 'PS%'],\n",
    "                         'M':['PS%', 'AvgP', 'Assists', 'Blocks', 'LongB'],\n",
    "                         'DM':['AvgP', 'ThrB', 'PS%', 'AerialsWon', 'Fouled'],\n",
    "                         'D':['PS%', 'AvgP', 'ThrB'],\n",
    "                         'GK':['PS%', 'AvgP']},\n",
    "                   '4':{'FW':['Assists', 'Goals'],\n",
    "                        'AM':['Assists', 'PS%', 'Dribble', 'SpG', 'ThrB'],\n",
    "                        'M':['PS%', 'Assists'],\n",
    "                        'DM':['PS%', 'AvgP', 'LongB', 'Blocks'],\n",
    "                        'D':['PS%', 'AvgP', 'Assists'],\n",
    "                        'GK':['PS%', 'KeyP']},\n",
    "                   '5':{'FW':['Goals', 'Assists', 'SpG', 'KeyP'],\n",
    "                        'AM':['Assists'],\n",
    "                        'M':['PS%'],\n",
    "                        'DM':['PS%'],\n",
    "                        'D':['PS%'],\n",
    "                        'GK':['PS%']},\n",
    "                   '6': {'FW':['Goals', 'Assists', 'SpG', 'PS%', 'ThrB'],\n",
    "                         'AM':['Goals', 'Assists', 'PS%', 'SpG', 'AvgP'],\n",
    "                         'M':['PS%', 'Assists', 'AvgP', 'Goals'],\n",
    "                         'DM':['PS%', 'AvgP'],\n",
    "                         'D':['PS%', 'AvgP'],\n",
    "                         'GK':['PS%']}}"
   ]
  },
  {
   "cell_type": "code",
   "execution_count": 3,
   "id": "dfadac74",
   "metadata": {},
   "outputs": [],
   "source": [
    "BL_player = pd.read_csv('./EDA/5_League/Budesliga_data/BL_player_value_merged.csv')\n",
    "EPL_player = pd.read_csv('./EDA/5_League/EPL_data/EPL_player_value_merged.csv')\n",
    "LL_player = pd.read_csv('./EDA/5_League/Laliga_data/LL_player_value_merged.csv')\n",
    "L1_player = pd.read_csv('./EDA/5_League/League1_data/L1_player_value_merged.csv')\n",
    "SA_player = pd.read_csv('./EDA/5_League/SerieA_data/SA_player_value_merged.csv')"
   ]
  },
  {
   "cell_type": "markdown",
   "id": "029a3512",
   "metadata": {},
   "source": [
    "## 데이터 전처리\n",
    "- 필요없는 컬럼 삭제\n",
    "- Position 재정의"
   ]
  },
  {
   "cell_type": "code",
   "execution_count": 4,
   "id": "db4633b5",
   "metadata": {},
   "outputs": [],
   "source": [
    "BL_player.drop('Unnamed: 0', axis=1, inplace=True)\n",
    "EPL_player.drop('Unnamed: 0', axis=1, inplace=True)\n",
    "LL_player.drop('Unnamed: 0', axis=1, inplace=True)\n",
    "L1_player.drop('Unnamed: 0', axis=1, inplace=True)\n",
    "SA_player.drop('Unnamed: 0', axis=1, inplace=True)"
   ]
  },
  {
   "cell_type": "code",
   "execution_count": 5,
   "id": "15e0c335",
   "metadata": {},
   "outputs": [
    {
     "name": "stderr",
     "output_type": "stream",
     "text": [
      "/var/folders/zt/1l6rrzf977nbpmcz1d2j0vd40000gn/T/ipykernel_77426/3410667279.py:4: SettingWithCopyWarning: \n",
      "A value is trying to be set on a copy of a slice from a DataFrame\n",
      "\n",
      "See the caveats in the documentation: https://pandas.pydata.org/pandas-docs/stable/user_guide/indexing.html#returning-a-view-versus-a-copy\n",
      "  po_li[i] = 'AM'\n",
      "/var/folders/zt/1l6rrzf977nbpmcz1d2j0vd40000gn/T/ipykernel_77426/3410667279.py:6: SettingWithCopyWarning: \n",
      "A value is trying to be set on a copy of a slice from a DataFrame\n",
      "\n",
      "See the caveats in the documentation: https://pandas.pydata.org/pandas-docs/stable/user_guide/indexing.html#returning-a-view-versus-a-copy\n",
      "  po_li[i] = 'M'\n",
      "/var/folders/zt/1l6rrzf977nbpmcz1d2j0vd40000gn/T/ipykernel_77426/3410667279.py:10: SettingWithCopyWarning: \n",
      "A value is trying to be set on a copy of a slice from a DataFrame\n",
      "\n",
      "See the caveats in the documentation: https://pandas.pydata.org/pandas-docs/stable/user_guide/indexing.html#returning-a-view-versus-a-copy\n",
      "  po_li[i] = 'D'\n",
      "/var/folders/zt/1l6rrzf977nbpmcz1d2j0vd40000gn/T/ipykernel_77426/3410667279.py:12: SettingWithCopyWarning: \n",
      "A value is trying to be set on a copy of a slice from a DataFrame\n",
      "\n",
      "See the caveats in the documentation: https://pandas.pydata.org/pandas-docs/stable/user_guide/indexing.html#returning-a-view-versus-a-copy\n",
      "  po_li[i] = 'FW'\n",
      "/var/folders/zt/1l6rrzf977nbpmcz1d2j0vd40000gn/T/ipykernel_77426/3410667279.py:14: SettingWithCopyWarning: \n",
      "A value is trying to be set on a copy of a slice from a DataFrame\n",
      "\n",
      "See the caveats in the documentation: https://pandas.pydata.org/pandas-docs/stable/user_guide/indexing.html#returning-a-view-versus-a-copy\n",
      "  po_li[i] = 'GK'\n",
      "/var/folders/zt/1l6rrzf977nbpmcz1d2j0vd40000gn/T/ipykernel_77426/3410667279.py:8: SettingWithCopyWarning: \n",
      "A value is trying to be set on a copy of a slice from a DataFrame\n",
      "\n",
      "See the caveats in the documentation: https://pandas.pydata.org/pandas-docs/stable/user_guide/indexing.html#returning-a-view-versus-a-copy\n",
      "  po_li[i] = 'DM'\n"
     ]
    },
    {
     "data": {
      "text/plain": [
       "0      AM\n",
       "1       M\n",
       "2       D\n",
       "3      AM\n",
       "4       M\n",
       "       ..\n",
       "270    FW\n",
       "271    GK\n",
       "272     M\n",
       "273     D\n",
       "274    FW\n",
       "Name: Position, Length: 275, dtype: object"
      ]
     },
     "execution_count": 5,
     "metadata": {},
     "output_type": "execute_result"
    }
   ],
   "source": [
    "po_li = BL_player['Position']\n",
    "for i in range(BL_player.shape[0]):\n",
    "    if po_li[i] == 'Attacking Midfield':\n",
    "        po_li[i] = 'AM'\n",
    "    elif po_li[i] == 'Central Midfield' or po_li[i] == 'Left Midfield' or po_li[i] == 'Right Midfield':\n",
    "        po_li[i] = 'M'\n",
    "    elif po_li[i] == 'Defensive Midfield':\n",
    "        po_li[i] = 'DM'\n",
    "    elif po_li[i] == 'Centre-Back' or po_li[i] == 'Right-Back' or po_li[i] == 'Left-Back':\n",
    "        po_li[i] = 'D'\n",
    "    elif po_li[i] == 'Centre-Forward' or po_li[i] == 'Right Winger' or po_li[i] == 'Left Winger' or po_li[i] == 'Second Striker':\n",
    "        po_li[i] = 'FW'\n",
    "    elif po_li[i] == 'Goalkeeper':\n",
    "        po_li[i] = 'GK'\n",
    "        \n",
    "BL_player['Position'] = pd.DataFrame(po_li, columns=['Position'])\n",
    "BL_player['Position']"
   ]
  },
  {
   "cell_type": "code",
   "execution_count": 6,
   "id": "a7ec2945",
   "metadata": {},
   "outputs": [
    {
     "name": "stderr",
     "output_type": "stream",
     "text": [
      "/var/folders/zt/1l6rrzf977nbpmcz1d2j0vd40000gn/T/ipykernel_77426/2424994410.py:6: SettingWithCopyWarning: \n",
      "A value is trying to be set on a copy of a slice from a DataFrame\n",
      "\n",
      "See the caveats in the documentation: https://pandas.pydata.org/pandas-docs/stable/user_guide/indexing.html#returning-a-view-versus-a-copy\n",
      "  po_li[i] = 'M'\n",
      "/var/folders/zt/1l6rrzf977nbpmcz1d2j0vd40000gn/T/ipykernel_77426/2424994410.py:10: SettingWithCopyWarning: \n",
      "A value is trying to be set on a copy of a slice from a DataFrame\n",
      "\n",
      "See the caveats in the documentation: https://pandas.pydata.org/pandas-docs/stable/user_guide/indexing.html#returning-a-view-versus-a-copy\n",
      "  po_li[i] = 'D'\n",
      "/var/folders/zt/1l6rrzf977nbpmcz1d2j0vd40000gn/T/ipykernel_77426/2424994410.py:12: SettingWithCopyWarning: \n",
      "A value is trying to be set on a copy of a slice from a DataFrame\n",
      "\n",
      "See the caveats in the documentation: https://pandas.pydata.org/pandas-docs/stable/user_guide/indexing.html#returning-a-view-versus-a-copy\n",
      "  po_li[i] = 'FW'\n",
      "/var/folders/zt/1l6rrzf977nbpmcz1d2j0vd40000gn/T/ipykernel_77426/2424994410.py:8: SettingWithCopyWarning: \n",
      "A value is trying to be set on a copy of a slice from a DataFrame\n",
      "\n",
      "See the caveats in the documentation: https://pandas.pydata.org/pandas-docs/stable/user_guide/indexing.html#returning-a-view-versus-a-copy\n",
      "  po_li[i] = 'DM'\n",
      "/var/folders/zt/1l6rrzf977nbpmcz1d2j0vd40000gn/T/ipykernel_77426/2424994410.py:14: SettingWithCopyWarning: \n",
      "A value is trying to be set on a copy of a slice from a DataFrame\n",
      "\n",
      "See the caveats in the documentation: https://pandas.pydata.org/pandas-docs/stable/user_guide/indexing.html#returning-a-view-versus-a-copy\n",
      "  po_li[i] = 'GK'\n",
      "/var/folders/zt/1l6rrzf977nbpmcz1d2j0vd40000gn/T/ipykernel_77426/2424994410.py:4: SettingWithCopyWarning: \n",
      "A value is trying to be set on a copy of a slice from a DataFrame\n",
      "\n",
      "See the caveats in the documentation: https://pandas.pydata.org/pandas-docs/stable/user_guide/indexing.html#returning-a-view-versus-a-copy\n",
      "  po_li[i] = 'AM'\n"
     ]
    },
    {
     "data": {
      "text/plain": [
       "0       M\n",
       "1       D\n",
       "2       D\n",
       "3       D\n",
       "4      FW\n",
       "       ..\n",
       "299    GK\n",
       "300    FW\n",
       "301    FW\n",
       "302    DM\n",
       "303     M\n",
       "Name: Position, Length: 304, dtype: object"
      ]
     },
     "execution_count": 6,
     "metadata": {},
     "output_type": "execute_result"
    }
   ],
   "source": [
    "po_li = EPL_player['Position']\n",
    "for i in range(EPL_player.shape[0]):\n",
    "    if po_li[i] == 'Attacking Midfield':\n",
    "        po_li[i] = 'AM'\n",
    "    elif po_li[i] == 'Central Midfield' or po_li[i] == 'Left Midfield' or po_li[i] == 'Right Midfield':\n",
    "        po_li[i] = 'M'\n",
    "    elif po_li[i] == 'Defensive Midfield':\n",
    "        po_li[i] = 'DM'\n",
    "    elif po_li[i] == 'Centre-Back' or po_li[i] == 'Right-Back' or po_li[i] == 'Left-Back':\n",
    "        po_li[i] = 'D'\n",
    "    elif po_li[i] == 'Centre-Forward' or po_li[i] == 'Right Winger' or po_li[i] == 'Left Winger' or po_li[i] == 'Second Striker':\n",
    "        po_li[i] = 'FW'\n",
    "    elif po_li[i] == 'Goalkeeper':\n",
    "        po_li[i] = 'GK'\n",
    "        \n",
    "EPL_player['Position'] = pd.DataFrame(po_li, columns=['Position'])\n",
    "EPL_player['Position']"
   ]
  },
  {
   "cell_type": "code",
   "execution_count": 7,
   "id": "575fab69",
   "metadata": {},
   "outputs": [
    {
     "name": "stderr",
     "output_type": "stream",
     "text": [
      "/var/folders/zt/1l6rrzf977nbpmcz1d2j0vd40000gn/T/ipykernel_77426/1534325327.py:10: SettingWithCopyWarning: \n",
      "A value is trying to be set on a copy of a slice from a DataFrame\n",
      "\n",
      "See the caveats in the documentation: https://pandas.pydata.org/pandas-docs/stable/user_guide/indexing.html#returning-a-view-versus-a-copy\n",
      "  po_li[i] = 'D'\n",
      "/var/folders/zt/1l6rrzf977nbpmcz1d2j0vd40000gn/T/ipykernel_77426/1534325327.py:12: SettingWithCopyWarning: \n",
      "A value is trying to be set on a copy of a slice from a DataFrame\n",
      "\n",
      "See the caveats in the documentation: https://pandas.pydata.org/pandas-docs/stable/user_guide/indexing.html#returning-a-view-versus-a-copy\n",
      "  po_li[i] = 'FW'\n",
      "/var/folders/zt/1l6rrzf977nbpmcz1d2j0vd40000gn/T/ipykernel_77426/1534325327.py:6: SettingWithCopyWarning: \n",
      "A value is trying to be set on a copy of a slice from a DataFrame\n",
      "\n",
      "See the caveats in the documentation: https://pandas.pydata.org/pandas-docs/stable/user_guide/indexing.html#returning-a-view-versus-a-copy\n",
      "  po_li[i] = 'M'\n",
      "/var/folders/zt/1l6rrzf977nbpmcz1d2j0vd40000gn/T/ipykernel_77426/1534325327.py:4: SettingWithCopyWarning: \n",
      "A value is trying to be set on a copy of a slice from a DataFrame\n",
      "\n",
      "See the caveats in the documentation: https://pandas.pydata.org/pandas-docs/stable/user_guide/indexing.html#returning-a-view-versus-a-copy\n",
      "  po_li[i] = 'AM'\n",
      "/var/folders/zt/1l6rrzf977nbpmcz1d2j0vd40000gn/T/ipykernel_77426/1534325327.py:8: SettingWithCopyWarning: \n",
      "A value is trying to be set on a copy of a slice from a DataFrame\n",
      "\n",
      "See the caveats in the documentation: https://pandas.pydata.org/pandas-docs/stable/user_guide/indexing.html#returning-a-view-versus-a-copy\n",
      "  po_li[i] = 'DM'\n",
      "/var/folders/zt/1l6rrzf977nbpmcz1d2j0vd40000gn/T/ipykernel_77426/1534325327.py:14: SettingWithCopyWarning: \n",
      "A value is trying to be set on a copy of a slice from a DataFrame\n",
      "\n",
      "See the caveats in the documentation: https://pandas.pydata.org/pandas-docs/stable/user_guide/indexing.html#returning-a-view-versus-a-copy\n",
      "  po_li[i] = 'GK'\n"
     ]
    },
    {
     "data": {
      "text/plain": [
       "0       D\n",
       "1       D\n",
       "2      FW\n",
       "3      FW\n",
       "4       M\n",
       "       ..\n",
       "314    DM\n",
       "315     D\n",
       "316    FW\n",
       "317     M\n",
       "318     M\n",
       "Name: Position, Length: 319, dtype: object"
      ]
     },
     "execution_count": 7,
     "metadata": {},
     "output_type": "execute_result"
    }
   ],
   "source": [
    "po_li = LL_player['Position']\n",
    "for i in range(LL_player.shape[0]):\n",
    "    if po_li[i] == 'Attacking Midfield':\n",
    "        po_li[i] = 'AM'\n",
    "    elif po_li[i] == 'Central Midfield' or po_li[i] == 'Left Midfield' or po_li[i] == 'Right Midfield':\n",
    "        po_li[i] = 'M'\n",
    "    elif po_li[i] == 'Defensive Midfield':\n",
    "        po_li[i] = 'DM'\n",
    "    elif po_li[i] == 'Centre-Back' or po_li[i] == 'Right-Back' or po_li[i] == 'Left-Back':\n",
    "        po_li[i] = 'D'\n",
    "    elif po_li[i] == 'Centre-Forward' or po_li[i] == 'Right Winger' or po_li[i] == 'Left Winger' or po_li[i] == 'Second Striker':\n",
    "        po_li[i] = 'FW'\n",
    "    elif po_li[i] == 'Goalkeeper':\n",
    "        po_li[i] = 'GK'\n",
    "        \n",
    "LL_player['Position'] = pd.DataFrame(po_li, columns=['Position'])\n",
    "LL_player['Position']"
   ]
  },
  {
   "cell_type": "code",
   "execution_count": 8,
   "id": "be6987d5",
   "metadata": {},
   "outputs": [
    {
     "name": "stderr",
     "output_type": "stream",
     "text": [
      "/var/folders/zt/1l6rrzf977nbpmcz1d2j0vd40000gn/T/ipykernel_77426/2632924717.py:12: SettingWithCopyWarning: \n",
      "A value is trying to be set on a copy of a slice from a DataFrame\n",
      "\n",
      "See the caveats in the documentation: https://pandas.pydata.org/pandas-docs/stable/user_guide/indexing.html#returning-a-view-versus-a-copy\n",
      "  po_li[i] = 'FW'\n",
      "/var/folders/zt/1l6rrzf977nbpmcz1d2j0vd40000gn/T/ipykernel_77426/2632924717.py:6: SettingWithCopyWarning: \n",
      "A value is trying to be set on a copy of a slice from a DataFrame\n",
      "\n",
      "See the caveats in the documentation: https://pandas.pydata.org/pandas-docs/stable/user_guide/indexing.html#returning-a-view-versus-a-copy\n",
      "  po_li[i] = 'M'\n",
      "/var/folders/zt/1l6rrzf977nbpmcz1d2j0vd40000gn/T/ipykernel_77426/2632924717.py:10: SettingWithCopyWarning: \n",
      "A value is trying to be set on a copy of a slice from a DataFrame\n",
      "\n",
      "See the caveats in the documentation: https://pandas.pydata.org/pandas-docs/stable/user_guide/indexing.html#returning-a-view-versus-a-copy\n",
      "  po_li[i] = 'D'\n",
      "/var/folders/zt/1l6rrzf977nbpmcz1d2j0vd40000gn/T/ipykernel_77426/2632924717.py:4: SettingWithCopyWarning: \n",
      "A value is trying to be set on a copy of a slice from a DataFrame\n",
      "\n",
      "See the caveats in the documentation: https://pandas.pydata.org/pandas-docs/stable/user_guide/indexing.html#returning-a-view-versus-a-copy\n",
      "  po_li[i] = 'AM'\n",
      "/var/folders/zt/1l6rrzf977nbpmcz1d2j0vd40000gn/T/ipykernel_77426/2632924717.py:8: SettingWithCopyWarning: \n",
      "A value is trying to be set on a copy of a slice from a DataFrame\n",
      "\n",
      "See the caveats in the documentation: https://pandas.pydata.org/pandas-docs/stable/user_guide/indexing.html#returning-a-view-versus-a-copy\n",
      "  po_li[i] = 'DM'\n",
      "/var/folders/zt/1l6rrzf977nbpmcz1d2j0vd40000gn/T/ipykernel_77426/2632924717.py:14: SettingWithCopyWarning: \n",
      "A value is trying to be set on a copy of a slice from a DataFrame\n",
      "\n",
      "See the caveats in the documentation: https://pandas.pydata.org/pandas-docs/stable/user_guide/indexing.html#returning-a-view-versus-a-copy\n",
      "  po_li[i] = 'GK'\n"
     ]
    },
    {
     "data": {
      "text/plain": [
       "0      FW\n",
       "1       M\n",
       "2       M\n",
       "3      FW\n",
       "4       D\n",
       "       ..\n",
       "310     D\n",
       "311     D\n",
       "312     D\n",
       "313     D\n",
       "314    FW\n",
       "Name: Position, Length: 315, dtype: object"
      ]
     },
     "execution_count": 8,
     "metadata": {},
     "output_type": "execute_result"
    }
   ],
   "source": [
    "po_li = L1_player['Position']\n",
    "for i in range(L1_player.shape[0]):\n",
    "    if po_li[i] == 'Attacking Midfield':\n",
    "        po_li[i] = 'AM'\n",
    "    elif po_li[i] == 'Central Midfield' or po_li[i] == 'Left Midfield' or po_li[i] == 'Right Midfield':\n",
    "        po_li[i] = 'M'\n",
    "    elif po_li[i] == 'Defensive Midfield':\n",
    "        po_li[i] = 'DM'\n",
    "    elif po_li[i] == 'Centre-Back' or po_li[i] == 'Right-Back' or po_li[i] == 'Left-Back':\n",
    "        po_li[i] = 'D'\n",
    "    elif po_li[i] == 'Centre-Forward' or po_li[i] == 'Right Winger' or po_li[i] == 'Left Winger' or po_li[i] == 'Second Striker':\n",
    "        po_li[i] = 'FW'\n",
    "    elif po_li[i] == 'Goalkeeper':\n",
    "        po_li[i] = 'GK'\n",
    "        \n",
    "L1_player['Position'] = pd.DataFrame(po_li, columns=['Position'])\n",
    "L1_player['Position']"
   ]
  },
  {
   "cell_type": "code",
   "execution_count": 9,
   "id": "8604e947",
   "metadata": {},
   "outputs": [
    {
     "name": "stderr",
     "output_type": "stream",
     "text": [
      "/var/folders/zt/1l6rrzf977nbpmcz1d2j0vd40000gn/T/ipykernel_77426/1519857846.py:12: SettingWithCopyWarning: \n",
      "A value is trying to be set on a copy of a slice from a DataFrame\n",
      "\n",
      "See the caveats in the documentation: https://pandas.pydata.org/pandas-docs/stable/user_guide/indexing.html#returning-a-view-versus-a-copy\n",
      "  po_li[i] = 'FW'\n",
      "/var/folders/zt/1l6rrzf977nbpmcz1d2j0vd40000gn/T/ipykernel_77426/1519857846.py:6: SettingWithCopyWarning: \n",
      "A value is trying to be set on a copy of a slice from a DataFrame\n",
      "\n",
      "See the caveats in the documentation: https://pandas.pydata.org/pandas-docs/stable/user_guide/indexing.html#returning-a-view-versus-a-copy\n",
      "  po_li[i] = 'M'\n",
      "/var/folders/zt/1l6rrzf977nbpmcz1d2j0vd40000gn/T/ipykernel_77426/1519857846.py:10: SettingWithCopyWarning: \n",
      "A value is trying to be set on a copy of a slice from a DataFrame\n",
      "\n",
      "See the caveats in the documentation: https://pandas.pydata.org/pandas-docs/stable/user_guide/indexing.html#returning-a-view-versus-a-copy\n",
      "  po_li[i] = 'D'\n",
      "/var/folders/zt/1l6rrzf977nbpmcz1d2j0vd40000gn/T/ipykernel_77426/1519857846.py:8: SettingWithCopyWarning: \n",
      "A value is trying to be set on a copy of a slice from a DataFrame\n",
      "\n",
      "See the caveats in the documentation: https://pandas.pydata.org/pandas-docs/stable/user_guide/indexing.html#returning-a-view-versus-a-copy\n",
      "  po_li[i] = 'DM'\n",
      "/var/folders/zt/1l6rrzf977nbpmcz1d2j0vd40000gn/T/ipykernel_77426/1519857846.py:14: SettingWithCopyWarning: \n",
      "A value is trying to be set on a copy of a slice from a DataFrame\n",
      "\n",
      "See the caveats in the documentation: https://pandas.pydata.org/pandas-docs/stable/user_guide/indexing.html#returning-a-view-versus-a-copy\n",
      "  po_li[i] = 'GK'\n",
      "/var/folders/zt/1l6rrzf977nbpmcz1d2j0vd40000gn/T/ipykernel_77426/1519857846.py:4: SettingWithCopyWarning: \n",
      "A value is trying to be set on a copy of a slice from a DataFrame\n",
      "\n",
      "See the caveats in the documentation: https://pandas.pydata.org/pandas-docs/stable/user_guide/indexing.html#returning-a-view-versus-a-copy\n",
      "  po_li[i] = 'AM'\n"
     ]
    },
    {
     "data": {
      "text/plain": [
       "0      FW\n",
       "1      FW\n",
       "2       M\n",
       "3       D\n",
       "4       D\n",
       "       ..\n",
       "300    FW\n",
       "301    FW\n",
       "302    FW\n",
       "303    FW\n",
       "304     M\n",
       "Name: Position, Length: 305, dtype: object"
      ]
     },
     "execution_count": 9,
     "metadata": {},
     "output_type": "execute_result"
    }
   ],
   "source": [
    "po_li = SA_player['Position']\n",
    "for i in range(SA_player.shape[0]):\n",
    "    if po_li[i] == 'Attacking Midfield':\n",
    "        po_li[i] = 'AM'\n",
    "    elif po_li[i] == 'Central Midfield' or po_li[i] == 'Left Midfield' or po_li[i] == 'Right Midfield':\n",
    "        po_li[i] = 'M'\n",
    "    elif po_li[i] == 'Defensive Midfield':\n",
    "        po_li[i] = 'DM'\n",
    "    elif po_li[i] == 'Centre-Back' or po_li[i] == 'Right-Back' or po_li[i] == 'Left-Back':\n",
    "        po_li[i] = 'D'\n",
    "    elif po_li[i] == 'Centre-Forward' or po_li[i] == 'Right Winger' or po_li[i] == 'Left Winger' or po_li[i] == 'Second Striker':\n",
    "        po_li[i] = 'FW'\n",
    "    elif po_li[i] == 'Goalkeeper':\n",
    "        po_li[i] = 'GK'\n",
    "        \n",
    "SA_player['Position'] = pd.DataFrame(po_li, columns=['Position'])\n",
    "SA_player['Position']"
   ]
  },
  {
   "cell_type": "code",
   "execution_count": 10,
   "id": "6c3ee1f9",
   "metadata": {},
   "outputs": [],
   "source": [
    "#BL_player.to_csv('BL_player_stats_value.csv')\n",
    "#EPL_player.to_csv('EPL_player_stats_value.csv')\n",
    "#LL_player.to_csv('LL_player_stats_value.csv')\n",
    "#L1_player.to_csv('L1_player_stats_value.csv')\n",
    "#SA_player.to_csv('SA_player_stats_value.csv')"
   ]
  },
  {
   "cell_type": "markdown",
   "id": "1128777b",
   "metadata": {},
   "source": [
    "## 데이터 병합"
   ]
  },
  {
   "cell_type": "code",
   "execution_count": 11,
   "id": "ecfe9f82",
   "metadata": {},
   "outputs": [],
   "source": [
    "BL_player = pd.read_csv('./player stats value/BL_player_stats_value.csv')\n",
    "EPL_player = pd.read_csv('./player stats value/EPL_player_stats_value.csv')\n",
    "LL_player = pd.read_csv('./player stats value/LL_player_stats_value.csv')\n",
    "L1_player = pd.read_csv('./player stats value/L1_player_stats_value.csv')\n",
    "SA_player = pd.read_csv('./player stats value/SA_player_stats_value.csv')"
   ]
  },
  {
   "cell_type": "code",
   "execution_count": 12,
   "id": "661951f4",
   "metadata": {},
   "outputs": [],
   "source": [
    "all_player = pd.concat([BL_player, EPL_player, LL_player, L1_player, SA_player], ignore_index=True)"
   ]
  },
  {
   "cell_type": "code",
   "execution_count": 13,
   "id": "e4ce1376",
   "metadata": {},
   "outputs": [],
   "source": [
    "player_df_list = [BL_player, EPL_player, LL_player, L1_player, SA_player, all_player]"
   ]
  },
  {
   "cell_type": "markdown",
   "id": "eaff39b9",
   "metadata": {},
   "source": [
    "# 통계 도출 프로그램"
   ]
  },
  {
   "cell_type": "code",
   "execution_count": 14,
   "id": "dd5f8461",
   "metadata": {},
   "outputs": [
    {
     "name": "stdout",
     "output_type": "stream",
     "text": [
      "선수 이름을 입력하세요 : Erling Haaland\n",
      "리그를 선택하세요\n",
      "1. Bundesliga\n",
      "2. EPL\n",
      "3. Laliga\n",
      "4. Ligue1\n",
      "5. SerieA\n",
      "6. Big_5\n",
      "리그 입력:6\n",
      "포지션을 입력하세요 : FW\n"
     ]
    }
   ],
   "source": [
    "player = input('선수 이름을 입력하세요 : ')\n",
    "league = input('리그를 선택하세요\\n1. Bundesliga\\n2. EPL\\n3. Laliga\\n4. Ligue1\\n5. SerieA\\n6. Big_5\\n리그 입력:')\n",
    "position = input(\"포지션을 입력하세요 : \")\n",
    "\n",
    "selected_player = all_player[all_player['player_name'] == player]\n",
    "features = league_features[str(league)][position]"
   ]
  },
  {
   "cell_type": "markdown",
   "id": "d72f7038",
   "metadata": {},
   "source": [
    "## 특정 리그에 대해서 통계치 보여주기"
   ]
  },
  {
   "cell_type": "code",
   "execution_count": 15,
   "id": "2f8bb6ff",
   "metadata": {},
   "outputs": [
    {
     "data": {
      "text/html": [
       "<div>\n",
       "<style scoped>\n",
       "    .dataframe tbody tr th:only-of-type {\n",
       "        vertical-align: middle;\n",
       "    }\n",
       "\n",
       "    .dataframe tbody tr th {\n",
       "        vertical-align: top;\n",
       "    }\n",
       "\n",
       "    .dataframe thead th {\n",
       "        text-align: right;\n",
       "    }\n",
       "</style>\n",
       "<table border=\"1\" class=\"dataframe\">\n",
       "  <thead>\n",
       "    <tr style=\"text-align: right;\">\n",
       "      <th></th>\n",
       "      <th>Goals</th>\n",
       "      <th>Assists</th>\n",
       "      <th>SpG</th>\n",
       "      <th>PS%</th>\n",
       "      <th>ThrB</th>\n",
       "    </tr>\n",
       "  </thead>\n",
       "  <tbody>\n",
       "    <tr>\n",
       "      <th>5</th>\n",
       "      <td>9</td>\n",
       "      <td>3</td>\n",
       "      <td>2.3</td>\n",
       "      <td>76.6</td>\n",
       "      <td>0.1</td>\n",
       "    </tr>\n",
       "    <tr>\n",
       "      <th>11</th>\n",
       "      <td>4</td>\n",
       "      <td>3</td>\n",
       "      <td>1.9</td>\n",
       "      <td>73.7</td>\n",
       "      <td>0.1</td>\n",
       "    </tr>\n",
       "    <tr>\n",
       "      <th>16</th>\n",
       "      <td>2</td>\n",
       "      <td>1</td>\n",
       "      <td>0.7</td>\n",
       "      <td>55.1</td>\n",
       "      <td>0.1</td>\n",
       "    </tr>\n",
       "    <tr>\n",
       "      <th>19</th>\n",
       "      <td>7</td>\n",
       "      <td>0</td>\n",
       "      <td>1.5</td>\n",
       "      <td>68.3</td>\n",
       "      <td>0.0</td>\n",
       "    </tr>\n",
       "    <tr>\n",
       "      <th>24</th>\n",
       "      <td>12</td>\n",
       "      <td>3</td>\n",
       "      <td>2.0</td>\n",
       "      <td>82.8</td>\n",
       "      <td>0.0</td>\n",
       "    </tr>\n",
       "    <tr>\n",
       "      <th>...</th>\n",
       "      <td>...</td>\n",
       "      <td>...</td>\n",
       "      <td>...</td>\n",
       "      <td>...</td>\n",
       "      <td>...</td>\n",
       "    </tr>\n",
       "    <tr>\n",
       "      <th>1506</th>\n",
       "      <td>8</td>\n",
       "      <td>4</td>\n",
       "      <td>2.0</td>\n",
       "      <td>69.1</td>\n",
       "      <td>0.1</td>\n",
       "    </tr>\n",
       "    <tr>\n",
       "      <th>1513</th>\n",
       "      <td>6</td>\n",
       "      <td>0</td>\n",
       "      <td>1.2</td>\n",
       "      <td>58.9</td>\n",
       "      <td>0.0</td>\n",
       "    </tr>\n",
       "    <tr>\n",
       "      <th>1514</th>\n",
       "      <td>2</td>\n",
       "      <td>2</td>\n",
       "      <td>1.1</td>\n",
       "      <td>72.3</td>\n",
       "      <td>0.1</td>\n",
       "    </tr>\n",
       "    <tr>\n",
       "      <th>1515</th>\n",
       "      <td>2</td>\n",
       "      <td>1</td>\n",
       "      <td>1.0</td>\n",
       "      <td>73.0</td>\n",
       "      <td>0.0</td>\n",
       "    </tr>\n",
       "    <tr>\n",
       "      <th>1516</th>\n",
       "      <td>5</td>\n",
       "      <td>2</td>\n",
       "      <td>1.4</td>\n",
       "      <td>64.4</td>\n",
       "      <td>0.0</td>\n",
       "    </tr>\n",
       "  </tbody>\n",
       "</table>\n",
       "<p>439 rows × 5 columns</p>\n",
       "</div>"
      ],
      "text/plain": [
       "      Goals  Assists  SpG   PS%  ThrB\n",
       "5         9        3  2.3  76.6   0.1\n",
       "11        4        3  1.9  73.7   0.1\n",
       "16        2        1  0.7  55.1   0.1\n",
       "19        7        0  1.5  68.3   0.0\n",
       "24       12        3  2.0  82.8   0.0\n",
       "...     ...      ...  ...   ...   ...\n",
       "1506      8        4  2.0  69.1   0.1\n",
       "1513      6        0  1.2  58.9   0.0\n",
       "1514      2        2  1.1  72.3   0.1\n",
       "1515      2        1  1.0  73.0   0.0\n",
       "1516      5        2  1.4  64.4   0.0\n",
       "\n",
       "[439 rows x 5 columns]"
      ]
     },
     "execution_count": 15,
     "metadata": {},
     "output_type": "execute_result"
    }
   ],
   "source": [
    "# 선택된 리그, 포지션에 해당하는 feature만 뽑아서 보여준다.\n",
    "selected_league_player_df = player_df_list[int(league)-1]\n",
    "selected_league_position = selected_league_player_df[selected_league_player_df['Position'] == position][features]\n",
    "selected_league_position"
   ]
  },
  {
   "cell_type": "code",
   "execution_count": 16,
   "id": "45383857",
   "metadata": {},
   "outputs": [
    {
     "data": {
      "text/html": [
       "<div>\n",
       "<style scoped>\n",
       "    .dataframe tbody tr th:only-of-type {\n",
       "        vertical-align: middle;\n",
       "    }\n",
       "\n",
       "    .dataframe tbody tr th {\n",
       "        vertical-align: top;\n",
       "    }\n",
       "\n",
       "    .dataframe thead th {\n",
       "        text-align: right;\n",
       "    }\n",
       "</style>\n",
       "<table border=\"1\" class=\"dataframe\">\n",
       "  <thead>\n",
       "    <tr style=\"text-align: right;\">\n",
       "      <th></th>\n",
       "      <th>Goals</th>\n",
       "      <th>Assists</th>\n",
       "      <th>SpG</th>\n",
       "      <th>PS%</th>\n",
       "      <th>ThrB</th>\n",
       "    </tr>\n",
       "  </thead>\n",
       "  <tbody>\n",
       "    <tr>\n",
       "      <th>mean</th>\n",
       "      <td>5.838269</td>\n",
       "      <td>2.767654</td>\n",
       "      <td>1.479954</td>\n",
       "      <td>74.199544</td>\n",
       "      <td>0.045558</td>\n",
       "    </tr>\n",
       "    <tr>\n",
       "      <th>min</th>\n",
       "      <td>0.000000</td>\n",
       "      <td>0.000000</td>\n",
       "      <td>0.100000</td>\n",
       "      <td>44.600000</td>\n",
       "      <td>0.000000</td>\n",
       "    </tr>\n",
       "    <tr>\n",
       "      <th>max</th>\n",
       "      <td>36.000000</td>\n",
       "      <td>16.000000</td>\n",
       "      <td>4.500000</td>\n",
       "      <td>92.400000</td>\n",
       "      <td>1.200000</td>\n",
       "    </tr>\n",
       "  </tbody>\n",
       "</table>\n",
       "</div>"
      ],
      "text/plain": [
       "          Goals    Assists       SpG        PS%      ThrB\n",
       "mean   5.838269   2.767654  1.479954  74.199544  0.045558\n",
       "min    0.000000   0.000000  0.100000  44.600000  0.000000\n",
       "max   36.000000  16.000000  4.500000  92.400000  1.200000"
      ]
     },
     "execution_count": 16,
     "metadata": {},
     "output_type": "execute_result"
    }
   ],
   "source": [
    "selected_league_position_stats = selected_league_position.describe().loc[['mean', 'min', 'max']]\n",
    "selected_league_position_stats"
   ]
  },
  {
   "cell_type": "code",
   "execution_count": 17,
   "id": "3d5f3497",
   "metadata": {},
   "outputs": [
    {
     "data": {
      "text/html": [
       "<div>\n",
       "<style scoped>\n",
       "    .dataframe tbody tr th:only-of-type {\n",
       "        vertical-align: middle;\n",
       "    }\n",
       "\n",
       "    .dataframe tbody tr th {\n",
       "        vertical-align: top;\n",
       "    }\n",
       "\n",
       "    .dataframe thead th {\n",
       "        text-align: right;\n",
       "    }\n",
       "</style>\n",
       "<table border=\"1\" class=\"dataframe\">\n",
       "  <thead>\n",
       "    <tr style=\"text-align: right;\">\n",
       "      <th></th>\n",
       "      <th>Goals</th>\n",
       "      <th>Assists</th>\n",
       "      <th>SpG</th>\n",
       "      <th>PS%</th>\n",
       "      <th>ThrB</th>\n",
       "    </tr>\n",
       "  </thead>\n",
       "  <tbody>\n",
       "    <tr>\n",
       "      <th>338</th>\n",
       "      <td>36</td>\n",
       "      <td>8</td>\n",
       "      <td>3.5</td>\n",
       "      <td>74.8</td>\n",
       "      <td>0.1</td>\n",
       "    </tr>\n",
       "  </tbody>\n",
       "</table>\n",
       "</div>"
      ],
      "text/plain": [
       "     Goals  Assists  SpG   PS%  ThrB\n",
       "338     36        8  3.5  74.8   0.1"
      ]
     },
     "execution_count": 17,
     "metadata": {},
     "output_type": "execute_result"
    }
   ],
   "source": [
    "selected_player[features]"
   ]
  },
  {
   "cell_type": "code",
   "execution_count": 18,
   "id": "5598113a",
   "metadata": {},
   "outputs": [
    {
     "name": "stdout",
     "output_type": "stream",
     "text": [
      "          Goals\n",
      "mean   5.838269\n",
      "min    0.000000\n",
      "max   36.000000\n",
      "Player Stats: 36\n",
      "--------------------\n",
      "        Assists\n",
      "mean   2.767654\n",
      "min    0.000000\n",
      "max   16.000000\n",
      "Player Stats: 8\n",
      "--------------------\n",
      "           SpG\n",
      "mean  1.479954\n",
      "min   0.100000\n",
      "max   4.500000\n",
      "Player Stats: 3.5\n",
      "--------------------\n",
      "            PS%\n",
      "mean  74.199544\n",
      "min   44.600000\n",
      "max   92.400000\n",
      "Player Stats: 74.8\n",
      "--------------------\n",
      "          ThrB\n",
      "mean  0.045558\n",
      "min   0.000000\n",
      "max   1.200000\n",
      "Player Stats: 0.1\n",
      "--------------------\n"
     ]
    }
   ],
   "source": [
    "for i in range(len(features)):\n",
    "    league_stats = selected_league_position_stats[[features[i]]]\n",
    "    print(league_stats)\n",
    "    print(f'Player Stats: {selected_player[features[i]].tolist()[0]}')\n",
    "    print('--------------------')"
   ]
  },
  {
   "cell_type": "markdown",
   "id": "9c48e44c",
   "metadata": {},
   "source": [
    "# 선수 가격 예측 모델"
   ]
  },
  {
   "cell_type": "code",
   "execution_count": 19,
   "id": "d5d7fc2a",
   "metadata": {},
   "outputs": [
    {
     "data": {
      "text/html": [
       "<div>\n",
       "<style scoped>\n",
       "    .dataframe tbody tr th:only-of-type {\n",
       "        vertical-align: middle;\n",
       "    }\n",
       "\n",
       "    .dataframe tbody tr th {\n",
       "        vertical-align: top;\n",
       "    }\n",
       "\n",
       "    .dataframe thead th {\n",
       "        text-align: right;\n",
       "    }\n",
       "</style>\n",
       "<table border=\"1\" class=\"dataframe\">\n",
       "  <thead>\n",
       "    <tr style=\"text-align: right;\">\n",
       "      <th></th>\n",
       "      <th>Unnamed: 0</th>\n",
       "      <th>player_name</th>\n",
       "      <th>team_number</th>\n",
       "      <th>team_name</th>\n",
       "      <th>age</th>\n",
       "      <th>position</th>\n",
       "      <th>Apps</th>\n",
       "      <th>Mins</th>\n",
       "      <th>Assists</th>\n",
       "      <th>KeyP</th>\n",
       "      <th>...</th>\n",
       "      <th>Offsides</th>\n",
       "      <th>Clear</th>\n",
       "      <th>Drb</th>\n",
       "      <th>Blocks</th>\n",
       "      <th>OwnG</th>\n",
       "      <th>Position</th>\n",
       "      <th>Date of Birth</th>\n",
       "      <th>Age</th>\n",
       "      <th>Nationality</th>\n",
       "      <th>Market Value</th>\n",
       "    </tr>\n",
       "  </thead>\n",
       "  <tbody>\n",
       "    <tr>\n",
       "      <th>0</th>\n",
       "      <td>0</td>\n",
       "      <td>Christopher Nkunku</td>\n",
       "      <td>7614</td>\n",
       "      <td>RBL</td>\n",
       "      <td>25</td>\n",
       "      <td>M(CLR),FW</td>\n",
       "      <td>20(5)</td>\n",
       "      <td>1899</td>\n",
       "      <td>4</td>\n",
       "      <td>1.6</td>\n",
       "      <td>...</td>\n",
       "      <td>0.0</td>\n",
       "      <td>0.4</td>\n",
       "      <td>0.2</td>\n",
       "      <td>0.1</td>\n",
       "      <td>0</td>\n",
       "      <td>AM</td>\n",
       "      <td>Nov 14, 1997</td>\n",
       "      <td>25</td>\n",
       "      <td>France</td>\n",
       "      <td>€80.00m</td>\n",
       "    </tr>\n",
       "    <tr>\n",
       "      <th>1</th>\n",
       "      <td>1</td>\n",
       "      <td>Dominik Szoboszlai</td>\n",
       "      <td>7614</td>\n",
       "      <td>RBL</td>\n",
       "      <td>22</td>\n",
       "      <td>AM(CLR)</td>\n",
       "      <td>28(3)</td>\n",
       "      <td>2453</td>\n",
       "      <td>8</td>\n",
       "      <td>2.3</td>\n",
       "      <td>...</td>\n",
       "      <td>0.0</td>\n",
       "      <td>0.7</td>\n",
       "      <td>0.8</td>\n",
       "      <td>0.1</td>\n",
       "      <td>0</td>\n",
       "      <td>M</td>\n",
       "      <td>Oct 25, 2000</td>\n",
       "      <td>22</td>\n",
       "      <td>Hungary</td>\n",
       "      <td>€50.00m</td>\n",
       "    </tr>\n",
       "    <tr>\n",
       "      <th>2</th>\n",
       "      <td>2</td>\n",
       "      <td>Willi Orbán</td>\n",
       "      <td>7614</td>\n",
       "      <td>RBL</td>\n",
       "      <td>30</td>\n",
       "      <td>D(C)</td>\n",
       "      <td>33</td>\n",
       "      <td>2951</td>\n",
       "      <td>0</td>\n",
       "      <td>0.2</td>\n",
       "      <td>...</td>\n",
       "      <td>0.5</td>\n",
       "      <td>3.9</td>\n",
       "      <td>0.5</td>\n",
       "      <td>0.7</td>\n",
       "      <td>1</td>\n",
       "      <td>D</td>\n",
       "      <td>Nov 3, 1992</td>\n",
       "      <td>30</td>\n",
       "      <td>Hungary</td>\n",
       "      <td>€10.00m</td>\n",
       "    </tr>\n",
       "    <tr>\n",
       "      <th>3</th>\n",
       "      <td>3</td>\n",
       "      <td>Dani Olmo</td>\n",
       "      <td>7614</td>\n",
       "      <td>RBL</td>\n",
       "      <td>25</td>\n",
       "      <td>AM(CLR),FW</td>\n",
       "      <td>15(8)</td>\n",
       "      <td>1285</td>\n",
       "      <td>5</td>\n",
       "      <td>1.7</td>\n",
       "      <td>...</td>\n",
       "      <td>0.0</td>\n",
       "      <td>0.2</td>\n",
       "      <td>0.3</td>\n",
       "      <td>0.0</td>\n",
       "      <td>0</td>\n",
       "      <td>AM</td>\n",
       "      <td>May 7, 1998</td>\n",
       "      <td>25</td>\n",
       "      <td>Spain</td>\n",
       "      <td>€40.00m</td>\n",
       "    </tr>\n",
       "    <tr>\n",
       "      <th>4</th>\n",
       "      <td>4</td>\n",
       "      <td>Konrad Laimer</td>\n",
       "      <td>7614</td>\n",
       "      <td>RBL</td>\n",
       "      <td>26</td>\n",
       "      <td>D(R),M(CR)</td>\n",
       "      <td>17(4)</td>\n",
       "      <td>1474</td>\n",
       "      <td>0</td>\n",
       "      <td>0.8</td>\n",
       "      <td>...</td>\n",
       "      <td>0.0</td>\n",
       "      <td>0.3</td>\n",
       "      <td>1.1</td>\n",
       "      <td>0.2</td>\n",
       "      <td>0</td>\n",
       "      <td>M</td>\n",
       "      <td>May 27, 1997</td>\n",
       "      <td>26</td>\n",
       "      <td>Austria</td>\n",
       "      <td>€28.00m</td>\n",
       "    </tr>\n",
       "    <tr>\n",
       "      <th>...</th>\n",
       "      <td>...</td>\n",
       "      <td>...</td>\n",
       "      <td>...</td>\n",
       "      <td>...</td>\n",
       "      <td>...</td>\n",
       "      <td>...</td>\n",
       "      <td>...</td>\n",
       "      <td>...</td>\n",
       "      <td>...</td>\n",
       "      <td>...</td>\n",
       "      <td>...</td>\n",
       "      <td>...</td>\n",
       "      <td>...</td>\n",
       "      <td>...</td>\n",
       "      <td>...</td>\n",
       "      <td>...</td>\n",
       "      <td>...</td>\n",
       "      <td>...</td>\n",
       "      <td>...</td>\n",
       "      <td>...</td>\n",
       "      <td>...</td>\n",
       "    </tr>\n",
       "    <tr>\n",
       "      <th>1513</th>\n",
       "      <td>300</td>\n",
       "      <td>Assan Ceesay</td>\n",
       "      <td>79</td>\n",
       "      <td>Lecce</td>\n",
       "      <td>29</td>\n",
       "      <td>FW</td>\n",
       "      <td>20(14)</td>\n",
       "      <td>1818</td>\n",
       "      <td>0</td>\n",
       "      <td>0.2</td>\n",
       "      <td>...</td>\n",
       "      <td>0.0</td>\n",
       "      <td>0.6</td>\n",
       "      <td>0.2</td>\n",
       "      <td>0.1</td>\n",
       "      <td>0</td>\n",
       "      <td>FW</td>\n",
       "      <td>Mar 17, 1994</td>\n",
       "      <td>29</td>\n",
       "      <td>The Gambia</td>\n",
       "      <td>€2.50m</td>\n",
       "    </tr>\n",
       "    <tr>\n",
       "      <th>1514</th>\n",
       "      <td>301</td>\n",
       "      <td>Federico Di Francesco</td>\n",
       "      <td>79</td>\n",
       "      <td>Lecce</td>\n",
       "      <td>29</td>\n",
       "      <td>M(LR),FW</td>\n",
       "      <td>23(13)</td>\n",
       "      <td>2040</td>\n",
       "      <td>2</td>\n",
       "      <td>0.7</td>\n",
       "      <td>...</td>\n",
       "      <td>0.0</td>\n",
       "      <td>0.4</td>\n",
       "      <td>0.3</td>\n",
       "      <td>0.0</td>\n",
       "      <td>0</td>\n",
       "      <td>FW</td>\n",
       "      <td>Jun 14, 1994</td>\n",
       "      <td>29</td>\n",
       "      <td>Italy</td>\n",
       "      <td>€1.80m</td>\n",
       "    </tr>\n",
       "    <tr>\n",
       "      <th>1515</th>\n",
       "      <td>302</td>\n",
       "      <td>Lameck Banda</td>\n",
       "      <td>79</td>\n",
       "      <td>Lecce</td>\n",
       "      <td>22</td>\n",
       "      <td>AM(L)</td>\n",
       "      <td>19(17)</td>\n",
       "      <td>1637</td>\n",
       "      <td>1</td>\n",
       "      <td>0.4</td>\n",
       "      <td>...</td>\n",
       "      <td>0.0</td>\n",
       "      <td>0.1</td>\n",
       "      <td>0.7</td>\n",
       "      <td>0.1</td>\n",
       "      <td>0</td>\n",
       "      <td>FW</td>\n",
       "      <td>Jan 29, 2001</td>\n",
       "      <td>22</td>\n",
       "      <td>Zambia</td>\n",
       "      <td>€4.00m</td>\n",
       "    </tr>\n",
       "    <tr>\n",
       "      <th>1516</th>\n",
       "      <td>303</td>\n",
       "      <td>Lorenzo Colombo</td>\n",
       "      <td>79</td>\n",
       "      <td>Lecce</td>\n",
       "      <td>21</td>\n",
       "      <td>FW</td>\n",
       "      <td>18(15)</td>\n",
       "      <td>1518</td>\n",
       "      <td>2</td>\n",
       "      <td>0.5</td>\n",
       "      <td>...</td>\n",
       "      <td>0.0</td>\n",
       "      <td>0.2</td>\n",
       "      <td>0.2</td>\n",
       "      <td>0.0</td>\n",
       "      <td>0</td>\n",
       "      <td>FW</td>\n",
       "      <td>Mar 8, 2002</td>\n",
       "      <td>21</td>\n",
       "      <td>Italy</td>\n",
       "      <td>€5.00m</td>\n",
       "    </tr>\n",
       "    <tr>\n",
       "      <th>1517</th>\n",
       "      <td>304</td>\n",
       "      <td>Kristoffer Askildsen</td>\n",
       "      <td>79</td>\n",
       "      <td>Lecce</td>\n",
       "      <td>22</td>\n",
       "      <td>M(C)</td>\n",
       "      <td>7(14)</td>\n",
       "      <td>724</td>\n",
       "      <td>0</td>\n",
       "      <td>0.3</td>\n",
       "      <td>...</td>\n",
       "      <td>0.0</td>\n",
       "      <td>0.3</td>\n",
       "      <td>0.3</td>\n",
       "      <td>0.2</td>\n",
       "      <td>0</td>\n",
       "      <td>M</td>\n",
       "      <td>Jan 9, 2001</td>\n",
       "      <td>22</td>\n",
       "      <td>Norway</td>\n",
       "      <td>€2.00m</td>\n",
       "    </tr>\n",
       "  </tbody>\n",
       "</table>\n",
       "<p>1518 rows × 40 columns</p>\n",
       "</div>"
      ],
      "text/plain": [
       "      Unnamed: 0            player_name  team_number team_name  age  \\\n",
       "0              0     Christopher Nkunku         7614       RBL   25   \n",
       "1              1     Dominik Szoboszlai         7614       RBL   22   \n",
       "2              2            Willi Orbán         7614       RBL   30   \n",
       "3              3              Dani Olmo         7614       RBL   25   \n",
       "4              4          Konrad Laimer         7614       RBL   26   \n",
       "...          ...                    ...          ...       ...  ...   \n",
       "1513         300           Assan Ceesay           79     Lecce   29   \n",
       "1514         301  Federico Di Francesco           79     Lecce   29   \n",
       "1515         302           Lameck Banda           79     Lecce   22   \n",
       "1516         303        Lorenzo Colombo           79     Lecce   21   \n",
       "1517         304   Kristoffer Askildsen           79     Lecce   22   \n",
       "\n",
       "           position    Apps  Mins  Assists  KeyP  ...  Offsides  Clear  Drb  \\\n",
       "0       M(CLR),FW     20(5)  1899        4   1.6  ...       0.0    0.4  0.2   \n",
       "1         AM(CLR)     28(3)  2453        8   2.3  ...       0.0    0.7  0.8   \n",
       "2            D(C)        33  2951        0   0.2  ...       0.5    3.9  0.5   \n",
       "3      AM(CLR),FW     15(8)  1285        5   1.7  ...       0.0    0.2  0.3   \n",
       "4      D(R),M(CR)     17(4)  1474        0   0.8  ...       0.0    0.3  1.1   \n",
       "...             ...     ...   ...      ...   ...  ...       ...    ...  ...   \n",
       "1513           FW    20(14)  1818        0   0.2  ...       0.0    0.6  0.2   \n",
       "1514     M(LR),FW    23(13)  2040        2   0.7  ...       0.0    0.4  0.3   \n",
       "1515        AM(L)    19(17)  1637        1   0.4  ...       0.0    0.1  0.7   \n",
       "1516           FW    18(15)  1518        2   0.5  ...       0.0    0.2  0.2   \n",
       "1517         M(C)     7(14)   724        0   0.3  ...       0.0    0.3  0.3   \n",
       "\n",
       "      Blocks  OwnG  Position  Date of Birth  Age  Nationality  Market Value  \n",
       "0        0.1     0        AM   Nov 14, 1997   25       France       €80.00m  \n",
       "1        0.1     0         M   Oct 25, 2000   22      Hungary       €50.00m  \n",
       "2        0.7     1         D    Nov 3, 1992   30      Hungary       €10.00m  \n",
       "3        0.0     0        AM    May 7, 1998   25        Spain       €40.00m  \n",
       "4        0.2     0         M   May 27, 1997   26      Austria       €28.00m  \n",
       "...      ...   ...       ...            ...  ...          ...           ...  \n",
       "1513     0.1     0        FW   Mar 17, 1994   29   The Gambia        €2.50m  \n",
       "1514     0.0     0        FW   Jun 14, 1994   29        Italy        €1.80m  \n",
       "1515     0.1     0        FW   Jan 29, 2001   22       Zambia        €4.00m  \n",
       "1516     0.0     0        FW    Mar 8, 2002   21        Italy        €5.00m  \n",
       "1517     0.2     0         M    Jan 9, 2001   22       Norway        €2.00m  \n",
       "\n",
       "[1518 rows x 40 columns]"
      ]
     },
     "execution_count": 19,
     "metadata": {},
     "output_type": "execute_result"
    }
   ],
   "source": [
    "all_player"
   ]
  },
  {
   "cell_type": "code",
   "execution_count": 20,
   "id": "99a03098",
   "metadata": {},
   "outputs": [],
   "source": [
    "# 가격이 결측인 행은 삭제\n",
    "\n",
    "all_player['Market Value'].replace('-', np.nan, inplace=True)\n",
    "all_player.dropna(subset=['Market Value'], inplace=True)\n",
    "all_player.reset_index(inplace=True)\n",
    "all_player.drop('index', axis=True, inplace=True)"
   ]
  },
  {
   "cell_type": "code",
   "execution_count": 21,
   "id": "4a7c1c8e",
   "metadata": {},
   "outputs": [],
   "source": [
    "value_li = all_player['Market Value'].tolist()\n",
    "\n",
    "for i in range(all_player.shape[0]):\n",
    "    value = float(value_li[i][1:len(value_li[i])-1])\n",
    "    m = value_li[i][-1]\n",
    "    \n",
    "    if m == 'm':\n",
    "        value *= 1000\n",
    "        \n",
    "    value_li[i] = value\n",
    "    \n",
    "all_player['Market Value'] = pd.DataFrame(value_li)"
   ]
  },
  {
   "cell_type": "code",
   "execution_count": 22,
   "id": "3443476b",
   "metadata": {},
   "outputs": [
    {
     "data": {
      "text/html": [
       "<div>\n",
       "<style scoped>\n",
       "    .dataframe tbody tr th:only-of-type {\n",
       "        vertical-align: middle;\n",
       "    }\n",
       "\n",
       "    .dataframe tbody tr th {\n",
       "        vertical-align: top;\n",
       "    }\n",
       "\n",
       "    .dataframe thead th {\n",
       "        text-align: right;\n",
       "    }\n",
       "</style>\n",
       "<table border=\"1\" class=\"dataframe\">\n",
       "  <thead>\n",
       "    <tr style=\"text-align: right;\">\n",
       "      <th></th>\n",
       "      <th>Market Value</th>\n",
       "    </tr>\n",
       "  </thead>\n",
       "  <tbody>\n",
       "    <tr>\n",
       "      <th>0</th>\n",
       "      <td>80000.0</td>\n",
       "    </tr>\n",
       "    <tr>\n",
       "      <th>1</th>\n",
       "      <td>50000.0</td>\n",
       "    </tr>\n",
       "    <tr>\n",
       "      <th>2</th>\n",
       "      <td>10000.0</td>\n",
       "    </tr>\n",
       "    <tr>\n",
       "      <th>3</th>\n",
       "      <td>40000.0</td>\n",
       "    </tr>\n",
       "    <tr>\n",
       "      <th>4</th>\n",
       "      <td>28000.0</td>\n",
       "    </tr>\n",
       "    <tr>\n",
       "      <th>...</th>\n",
       "      <td>...</td>\n",
       "    </tr>\n",
       "    <tr>\n",
       "      <th>1512</th>\n",
       "      <td>2500.0</td>\n",
       "    </tr>\n",
       "    <tr>\n",
       "      <th>1513</th>\n",
       "      <td>1800.0</td>\n",
       "    </tr>\n",
       "    <tr>\n",
       "      <th>1514</th>\n",
       "      <td>4000.0</td>\n",
       "    </tr>\n",
       "    <tr>\n",
       "      <th>1515</th>\n",
       "      <td>5000.0</td>\n",
       "    </tr>\n",
       "    <tr>\n",
       "      <th>1516</th>\n",
       "      <td>2000.0</td>\n",
       "    </tr>\n",
       "  </tbody>\n",
       "</table>\n",
       "<p>1517 rows × 1 columns</p>\n",
       "</div>"
      ],
      "text/plain": [
       "      Market Value\n",
       "0          80000.0\n",
       "1          50000.0\n",
       "2          10000.0\n",
       "3          40000.0\n",
       "4          28000.0\n",
       "...            ...\n",
       "1512        2500.0\n",
       "1513        1800.0\n",
       "1514        4000.0\n",
       "1515        5000.0\n",
       "1516        2000.0\n",
       "\n",
       "[1517 rows x 1 columns]"
      ]
     },
     "execution_count": 22,
     "metadata": {},
     "output_type": "execute_result"
    }
   ],
   "source": [
    "all_player[['Market Value']]"
   ]
  },
  {
   "cell_type": "markdown",
   "id": "5e5654f2",
   "metadata": {},
   "source": [
    "# sm.OLS"
   ]
  },
  {
   "cell_type": "code",
   "execution_count": 23,
   "id": "526a5089",
   "metadata": {},
   "outputs": [],
   "source": [
    "import statsmodels.api as sm\n",
    "import matplotlib.pyplot as plt\n",
    "from sklearn.model_selection import train_test_split"
   ]
  },
  {
   "cell_type": "code",
   "execution_count": 24,
   "id": "5bec1819",
   "metadata": {
    "scrolled": false
   },
   "outputs": [
    {
     "name": "stdout",
     "output_type": "stream",
     "text": [
      "                            OLS Regression Results                            \n",
      "==============================================================================\n",
      "Dep. Variable:           Market Value   R-squared:                       0.545\n",
      "Model:                            OLS   Adj. R-squared:                  0.533\n",
      "Method:                 Least Squares   F-statistic:                     45.68\n",
      "Date:                Wed, 08 May 2024   Prob (F-statistic):          6.69e-178\n",
      "Time:                        17:14:50   Log-Likelihood:                -13172.\n",
      "No. Observations:                1213   AIC:                         2.641e+04\n",
      "Df Residuals:                    1181   BIC:                         2.657e+04\n",
      "Df Model:                          31                                         \n",
      "Covariance Type:            nonrobust                                         \n",
      "==============================================================================\n",
      "                 coef    std err          t      P>|t|      [0.025      0.975]\n",
      "------------------------------------------------------------------------------\n",
      "const      -1.409e+05   2.29e+04     -6.143      0.000   -1.86e+05   -9.59e+04\n",
      "Unnamed: 0     3.6807      4.229      0.870      0.384      -4.617      11.979\n",
      "age        -1961.5629   1066.479     -1.839      0.066   -4053.967     130.842\n",
      "Mins          -0.5940      0.832     -0.714      0.476      -2.227       1.039\n",
      "Assists      680.9861    273.278      2.492      0.013     144.821    1217.151\n",
      "KeyP         629.3704   2004.052      0.314      0.754   -3302.529    4561.270\n",
      "AvgP         437.3905     64.301      6.802      0.000     311.234     563.547\n",
      "PS%           87.6886     78.657      1.115      0.265     -66.635     242.012\n",
      "Crosses    -7205.7246   1668.541     -4.319      0.000   -1.05e+04   -3932.090\n",
      "LongB      -1341.5382    428.214     -3.133      0.002   -2181.683    -501.393\n",
      "ThrB        3091.6759   6430.246      0.481      0.631   -9524.304    1.57e+04\n",
      "Rating      2.797e+04   3613.531      7.739      0.000    2.09e+04    3.51e+04\n",
      "Goals        919.3262    203.688      4.513      0.000     519.695    1318.958\n",
      "Yel          690.2132    192.691      3.582      0.000     312.159    1068.267\n",
      "Red         -531.8355    829.380     -0.641      0.521   -2159.058    1095.386\n",
      "SpG         1706.4895   1228.311      1.389      0.165    -703.425    4116.404\n",
      "AerialsWon -2172.5669    770.646     -2.819      0.005   -3684.555    -660.579\n",
      "MoM          -22.6551    393.984     -0.058      0.954    -795.643     750.332\n",
      "Dribble     -312.8570   1386.810     -0.226      0.822   -3033.743    2408.029\n",
      "Fouled     -2100.0271   1048.067     -2.004      0.045   -4156.308     -43.746\n",
      "Off        -1543.2029   3151.341     -0.490      0.624   -7726.054    4639.648\n",
      "Disp        1310.0003   1672.818      0.783      0.434   -1972.027    4592.027\n",
      "UnsTch     -2094.7607   1336.451     -1.567      0.117   -4716.844     527.323\n",
      "Tackles        4.5872   1114.720      0.004      0.997   -2182.466    2191.641\n",
      "Inter      -3995.0695   1528.604     -2.614      0.009   -6994.152    -995.987\n",
      "Fouls      -1136.0914   1445.578     -0.786      0.432   -3972.279    1700.096\n",
      "Offsides    -699.3081   3485.961     -0.201      0.841   -7538.675    6140.059\n",
      "Clear      -1460.6468    875.362     -1.669      0.095   -3178.085     256.791\n",
      "Drb        -7032.2578   1599.491     -4.397      0.000   -1.02e+04   -3894.097\n",
      "Blocks     -1036.4802   2895.411     -0.358      0.720   -6717.203    4644.243\n",
      "OwnG        1232.8786   1339.011      0.921      0.357   -1394.227    3859.984\n",
      "Age          512.2460   1066.895      0.480      0.631   -1580.976    2605.468\n",
      "==============================================================================\n",
      "Omnibus:                      438.311   Durbin-Watson:                   1.903\n",
      "Prob(Omnibus):                  0.000   Jarque-Bera (JB):             2823.419\n",
      "Skew:                           1.522   Prob(JB):                         0.00\n",
      "Kurtosis:                       9.826   Cond. No.                     1.31e+05\n",
      "==============================================================================\n",
      "\n",
      "Notes:\n",
      "[1] Standard Errors assume that the covariance matrix of the errors is correctly specified.\n",
      "[2] The condition number is large, 1.31e+05. This might indicate that there are\n",
      "strong multicollinearity or other numerical problems.\n"
     ]
    }
   ],
   "source": [
    "# 모든 feature 사용\n",
    "\n",
    "data_tmp = all_player.select_dtypes(['int64', 'float64'])\n",
    "data = data_tmp.drop(['Market Value', 'team_number'], axis=1)\n",
    "\n",
    "X = sm.add_constant(data, has_constant='add')\n",
    "y = data_tmp[['Market Value']]\n",
    "\n",
    "X_train1, X_test1, y_train1, y_test1 = train_test_split(X, y, train_size=0.8, test_size=0.2, random_state=42)\n",
    "\n",
    "linear_reg_model = sm.OLS(y_train1, X_train1)\n",
    "linear_reg_fitted_model = linear_reg_model.fit()\n",
    "print(linear_reg_fitted_model.summary())"
   ]
  },
  {
   "cell_type": "code",
   "execution_count": 25,
   "id": "db7e57d4",
   "metadata": {},
   "outputs": [
    {
     "data": {
      "text/plain": [
       "724     14116.575062\n",
       "812      4330.522968\n",
       "1466    22344.777950\n",
       "1469    24715.641236\n",
       "51      14082.799571\n",
       "            ...     \n",
       "358     33451.988652\n",
       "1169    22842.459507\n",
       "111     17919.792137\n",
       "1292    33465.429921\n",
       "816     -7625.760569\n",
       "Length: 304, dtype: float64"
      ]
     },
     "execution_count": 25,
     "metadata": {},
     "output_type": "execute_result"
    }
   ],
   "source": [
    "linear_reg_pred = linear_reg_fitted_model.predict(X_test1)\n",
    "linear_reg_pred"
   ]
  },
  {
   "cell_type": "code",
   "execution_count": 26,
   "id": "803103ad",
   "metadata": {
    "scrolled": false
   },
   "outputs": [
    {
     "data": {
      "image/png": "[encoded data removed]",
      "text/plain": [
       "<Figure size 2000x1000 with 1 Axes>"
      ]
     },
     "metadata": {},
     "output_type": "display_data"
    }
   ],
   "source": [
    "plt.figure(figsize=(20, 10))\n",
    "plt.plot(np.array(linear_reg_pred), label='pred')\n",
    "plt.plot(np.array(y_test1), label='true')\n",
    "plt.title('Predict Results with sm.OLS ')\n",
    "plt.legend()\n",
    "plt.show()"
   ]
  },
  {
   "cell_type": "code",
   "execution_count": 27,
   "id": "da452c38",
   "metadata": {},
   "outputs": [
    {
     "data": {
      "text/plain": [
       "array([[ 10616.5750625 ,    830.52296773,  18844.77795046, ...,\n",
       "         14419.79213675,  29965.4299208 , -11125.76056887],\n",
       "       [ 11116.5750625 ,   1330.52296773,  19344.77795046, ...,\n",
       "         14919.79213675,  30465.4299208 , -10625.76056887],\n",
       "       [  4116.5750625 ,  -5669.47703227,  12344.77795046, ...,\n",
       "          7919.79213675,  23465.4299208 , -17625.76056887],\n",
       "       ...,\n",
       "       [ -5883.4249375 , -15669.47703227,   2344.77795046, ...,\n",
       "         -2080.20786325,  13465.4299208 , -27625.76056887],\n",
       "       [-15883.4249375 , -25669.47703227,  -7655.22204954, ...,\n",
       "        -12080.20786325,   3465.4299208 , -37625.76056887],\n",
       "       [ 12616.5750625 ,   2830.52296773,  20844.77795046, ...,\n",
       "         16419.79213675,  31965.4299208 ,  -9125.76056887]])"
      ]
     },
     "execution_count": 27,
     "metadata": {},
     "output_type": "execute_result"
    }
   ],
   "source": [
    "np.array(linear_reg_pred) - np.array(y_test1)"
   ]
  },
  {
   "cell_type": "code",
   "execution_count": 28,
   "id": "1f6a6f96",
   "metadata": {},
   "outputs": [
    {
     "ename": "NameError",
     "evalue": "name 'X_test' is not defined",
     "output_type": "error",
     "traceback": [
      "\u001b[0;31m---------------------------------------------------------------------------\u001b[0m",
      "\u001b[0;31mNameError\u001b[0m                                 Traceback (most recent call last)",
      "Cell \u001b[0;32mIn[28], line 1\u001b[0m\n\u001b[0;32m----> 1\u001b[0m MSE \u001b[38;5;241m=\u001b[39m (np\u001b[38;5;241m.\u001b[39marray(linear_reg_pred) \u001b[38;5;241m-\u001b[39m np\u001b[38;5;241m.\u001b[39marray(y_test1))\u001b[38;5;241m.\u001b[39msum() \u001b[38;5;241m*\u001b[39m\u001b[38;5;241m*\u001b[39m \u001b[38;5;241m2\u001b[39m \u001b[38;5;241m/\u001b[39m X_test\u001b[38;5;241m.\u001b[39mshape[\u001b[38;5;241m0\u001b[39m]\n\u001b[1;32m      2\u001b[0m MSE\n",
      "\u001b[0;31mNameError\u001b[0m: name 'X_test' is not defined"
     ]
    }
   ],
   "source": [
    "MSE = (np.array(linear_reg_pred) - np.array(y_test1)).sum() ** 2 / X_test.shape[0]\n",
    "MSE"
   ]
  },
  {
   "cell_type": "markdown",
   "id": "fff203e8",
   "metadata": {},
   "source": [
    "## feature 조정"
   ]
  },
  {
   "cell_type": "code",
   "execution_count": null,
   "id": "7bcbe3f3",
   "metadata": {},
   "outputs": [],
   "source": [
    "import statsmodels.api as sm\n",
    "import matplotlib.pyplot as plt\n",
    "from sklearn.model_selection import train_test_split"
   ]
  },
  {
   "cell_type": "code",
   "execution_count": null,
   "id": "4eade2ac",
   "metadata": {},
   "outputs": [],
   "source": [
    "# 모든 feature 사용\n",
    "\n",
    "data_tmp = all_player.select_dtypes(['int64', 'float64'])\n",
    "data = data_tmp.drop(['Market Value', 'team_number', 'KeyP', 'MoM', 'Dribble', 'Tackles', 'Mins', 'Age', 'OwnG', 'Offsides', 'Off', 'Blocks', 'Red'], axis=1)\n",
    "\n",
    "X = sm.add_constant(data, has_constant='add')\n",
    "y = data_tmp[['Market Value']]\n",
    "\n",
    "X_train3, X_test3, y_train3, y_test3 = train_test_split(X, y, train_size=0.8, test_size=0.2, random_state=42)\n",
    "\n",
    "linear_reg_model3 = sm.OLS(y_train3, X_train3)\n",
    "linear_reg_fitted_model3 = linear_reg_model3.fit()\n",
    "print(linear_reg_fitted_model3.summary())"
   ]
  },
  {
   "cell_type": "code",
   "execution_count": null,
   "id": "ef44eae7",
   "metadata": {},
   "outputs": [],
   "source": [
    "linear_reg_pred3 = linear_reg_fitted_model3.predict(X_test3)\n",
    "linear_reg_pred3"
   ]
  },
  {
   "cell_type": "code",
   "execution_count": null,
   "id": "20b38627",
   "metadata": {},
   "outputs": [],
   "source": [
    "plt.figure(figsize=(20, 10))\n",
    "plt.plot(np.array(linear_reg_pred3), label='pred')\n",
    "plt.plot(np.array(y_test3), label='true')\n",
    "plt.title('Predict Results with sm.OLS(feature removed)')\n",
    "plt.legend()\n",
    "plt.show()"
   ]
  },
  {
   "cell_type": "code",
   "execution_count": null,
   "id": "a01eec64",
   "metadata": {},
   "outputs": [],
   "source": [
    "MSE3 = (np.array(linear_reg_pred3) - np.array(y_test3)).sum() ** 2 / X_test3.shape[0]\n",
    "MSE3"
   ]
  },
  {
   "cell_type": "markdown",
   "id": "0f97db8f",
   "metadata": {},
   "source": [
    "# LinearRegression"
   ]
  },
  {
   "cell_type": "code",
   "execution_count": null,
   "id": "f016cf92",
   "metadata": {},
   "outputs": [],
   "source": [
    "import numpy as np\n",
    "from sklearn.model_selection import train_test_split\n",
    "from sklearn.linear_model import LinearRegression"
   ]
  },
  {
   "cell_type": "code",
   "execution_count": null,
   "id": "34fac3fa",
   "metadata": {},
   "outputs": [],
   "source": [
    "# 모든 feature 사용\n",
    "\n",
    "data_tmp = all_player.select_dtypes(['int64', 'float64'])\n",
    "\n",
    "X = data_tmp.drop(['Market Value', 'team_number'], axis=1)\n",
    "y = data_tmp[['Market Value']]\n",
    "\n",
    "X_train2, X_test2, y_train2, y_test2 = train_test_split(X, y, train_size=0.8, test_size=0.2, random_state=42)\n",
    "\n",
    "linear_reg_model2 = LinearRegression()\n",
    "linear_reg_fitted_model2 = linear_reg_model2.fit(X_train2, y_train2)"
   ]
  },
  {
   "cell_type": "code",
   "execution_count": null,
   "id": "720004d2",
   "metadata": {},
   "outputs": [],
   "source": [
    "linear_reg_pred2 = linear_reg_fitted_model2.predict(X_test2)\n",
    "linear_reg_pred2"
   ]
  },
  {
   "cell_type": "code",
   "execution_count": null,
   "id": "1b40f82b",
   "metadata": {},
   "outputs": [],
   "source": [
    "plt.figure(figsize=(20, 10))\n",
    "plt.plot(np.array(linear_reg_pred2), label='pred')\n",
    "plt.plot(np.array(y_test2), label='true')\n",
    "plt.legend()\n",
    "plt.show()"
   ]
  },
  {
   "cell_type": "code",
   "execution_count": null,
   "id": "b0997708",
   "metadata": {},
   "outputs": [],
   "source": [
    "np.array(linear_reg_pred2) - np.array(y_test2)"
   ]
  },
  {
   "cell_type": "code",
   "execution_count": null,
   "id": "efe15026",
   "metadata": {},
   "outputs": [],
   "source": [
    "MSE2 = (np.array(linear_reg_pred2) - np.array(y_test2)).sum() ** 2 / X_test2.shape[0]\n",
    "MSE2"
   ]
  },
  {
   "cell_type": "code",
   "execution_count": null,
   "id": "395c7ac6",
   "metadata": {},
   "outputs": [],
   "source": []
  },
  {
   "cell_type": "code",
   "execution_count": null,
   "id": "01f5d17b",
   "metadata": {},
   "outputs": [],
   "source": []
  },
  {
   "cell_type": "code",
   "execution_count": null,
   "id": "bb580559",
   "metadata": {},
   "outputs": [],
   "source": []
  },
  {
   "cell_type": "code",
   "execution_count": null,
   "id": "32581cb0",
   "metadata": {},
   "outputs": [],
   "source": []
  },
  {
   "cell_type": "code",
   "execution_count": null,
   "id": "4d454d98",
   "metadata": {},
   "outputs": [],
   "source": []
  },
  {
   "cell_type": "code",
   "execution_count": null,
   "id": "8f191ba2",
   "metadata": {},
   "outputs": [],
   "source": []
  },
  {
   "cell_type": "code",
   "execution_count": null,
   "id": "3d47faab",
   "metadata": {},
   "outputs": [],
   "source": []
  },
  {
   "cell_type": "code",
   "execution_count": null,
   "id": "0cbcce33",
   "metadata": {},
   "outputs": [],
   "source": []
  },
  {
   "cell_type": "code",
   "execution_count": null,
   "id": "39a82339",
   "metadata": {},
   "outputs": [],
   "source": []
  },
  {
   "cell_type": "code",
   "execution_count": null,
   "id": "8a2c2297",
   "metadata": {},
   "outputs": [],
   "source": []
  },
  {
   "cell_type": "code",
   "execution_count": null,
   "id": "7b4f9732",
   "metadata": {},
   "outputs": [],
   "source": []
  },
  {
   "cell_type": "code",
   "execution_count": null,
   "id": "43be1817",
   "metadata": {},
   "outputs": [],
   "source": []
  },
  {
   "cell_type": "code",
   "execution_count": null,
   "id": "1dbde353",
   "metadata": {},
   "outputs": [],
   "source": []
  },
  {
   "cell_type": "code",
   "execution_count": null,
   "id": "d4422252",
   "metadata": {},
   "outputs": [],
   "source": []
  },
  {
   "cell_type": "code",
   "execution_count": null,
   "id": "3b8875a3",
   "metadata": {},
   "outputs": [],
   "source": []
  },
  {
   "cell_type": "code",
   "execution_count": null,
   "id": "ac4ca2cd",
   "metadata": {},
   "outputs": [],
   "source": []
  },
  {
   "cell_type": "code",
   "execution_count": null,
   "id": "81bafbc6",
   "metadata": {},
   "outputs": [],
   "source": []
  },
  {
   "cell_type": "code",
   "execution_count": null,
   "id": "a1f1afd7",
   "metadata": {},
   "outputs": [],
   "source": []
  },
  {
   "cell_type": "code",
   "execution_count": null,
   "id": "6e6f37a3",
   "metadata": {},
   "outputs": [],
   "source": []
  },
  {
   "cell_type": "code",
   "execution_count": null,
   "id": "b59fec27",
   "metadata": {},
   "outputs": [],
   "source": []
  },
  {
   "cell_type": "code",
   "execution_count": null,
   "id": "2f96da61",
   "metadata": {},
   "outputs": [],
   "source": []
  },
  {
   "cell_type": "code",
   "execution_count": null,
   "id": "16f9cfb4",
   "metadata": {},
   "outputs": [],
   "source": []
  },
  {
   "cell_type": "code",
   "execution_count": null,
   "id": "15379cb4",
   "metadata": {},
   "outputs": [],
   "source": []
  },
  {
   "cell_type": "code",
   "execution_count": null,
   "id": "4b326c41",
   "metadata": {},
   "outputs": [],
   "source": []
  },
  {
   "cell_type": "code",
   "execution_count": null,
   "id": "4c58ce3b",
   "metadata": {},
   "outputs": [],
   "source": []
  },
  {
   "cell_type": "code",
   "execution_count": null,
   "id": "dcc210fa",
   "metadata": {},
   "outputs": [],
   "source": []
  },
  {
   "cell_type": "code",
   "execution_count": null,
   "id": "ac05ab9d",
   "metadata": {},
   "outputs": [],
   "source": []
  },
  {
   "cell_type": "code",
   "execution_count": null,
   "id": "6a03be79",
   "metadata": {},
   "outputs": [],
   "source": []
  },
  {
   "cell_type": "code",
   "execution_count": null,
   "id": "83550183",
   "metadata": {},
   "outputs": [],
   "source": []
  },
  {
   "cell_type": "code",
   "execution_count": null,
   "id": "71f31bf6",
   "metadata": {},
   "outputs": [],
   "source": []
  },
  {
   "cell_type": "code",
   "execution_count": null,
   "id": "971ccfe1",
   "metadata": {},
   "outputs": [],
   "source": []
  },
  {
   "cell_type": "code",
   "execution_count": null,
   "id": "61fc659f",
   "metadata": {},
   "outputs": [],
   "source": []
  },
  {
   "cell_type": "code",
   "execution_count": null,
   "id": "26abb2b6",
   "metadata": {},
   "outputs": [],
   "source": []
  },
  {
   "cell_type": "code",
   "execution_count": null,
   "id": "772a5f22",
   "metadata": {},
   "outputs": [],
   "source": []
  },
  {
   "cell_type": "code",
   "execution_count": null,
   "id": "153cab7c",
   "metadata": {},
   "outputs": [],
   "source": []
  },
  {
   "cell_type": "code",
   "execution_count": null,
   "id": "0c2f89f6",
   "metadata": {},
   "outputs": [],
   "source": []
  },
  {
   "cell_type": "code",
   "execution_count": null,
   "id": "159ad94c",
   "metadata": {},
   "outputs": [],
   "source": []
  },
  {
   "cell_type": "code",
   "execution_count": null,
   "id": "e3e759e6",
   "metadata": {},
   "outputs": [],
   "source": []
  },
  {
   "cell_type": "code",
   "execution_count": null,
   "id": "6950f3a6",
   "metadata": {},
   "outputs": [],
   "source": []
  },
  {
   "cell_type": "code",
   "execution_count": null,
   "id": "ed14c3bc",
   "metadata": {},
   "outputs": [],
   "source": []
  },
  {
   "cell_type": "code",
   "execution_count": null,
   "id": "0a574072",
   "metadata": {},
   "outputs": [],
   "source": []
  },
  {
   "cell_type": "code",
   "execution_count": null,
   "id": "c76134ae",
   "metadata": {},
   "outputs": [],
   "source": []
  },
  {
   "cell_type": "code",
   "execution_count": null,
   "id": "fe087cc5",
   "metadata": {},
   "outputs": [],
   "source": []
  },
  {
   "cell_type": "code",
   "execution_count": null,
   "id": "098bf5b4",
   "metadata": {},
   "outputs": [],
   "source": []
  },
  {
   "cell_type": "code",
   "execution_count": null,
   "id": "fbb3de80",
   "metadata": {},
   "outputs": [],
   "source": []
  },
  {
   "cell_type": "code",
   "execution_count": null,
   "id": "8152c4ef",
   "metadata": {},
   "outputs": [],
   "source": []
  },
  {
   "cell_type": "code",
   "execution_count": null,
   "id": "bdfe276a",
   "metadata": {},
   "outputs": [],
   "source": []
  },
  {
   "cell_type": "code",
   "execution_count": null,
   "id": "4eea22a7",
   "metadata": {},
   "outputs": [],
   "source": []
  },
  {
   "cell_type": "code",
   "execution_count": null,
   "id": "717b7d9a",
   "metadata": {},
   "outputs": [],
   "source": []
  },
  {
   "cell_type": "code",
   "execution_count": null,
   "id": "f7be8286",
   "metadata": {},
   "outputs": [],
   "source": []
  },
  {
   "cell_type": "code",
   "execution_count": null,
   "id": "342efe48",
   "metadata": {},
   "outputs": [],
   "source": []
  },
  {
   "cell_type": "code",
   "execution_count": null,
   "id": "58db7b39",
   "metadata": {},
   "outputs": [],
   "source": []
  },
  {
   "cell_type": "code",
   "execution_count": null,
   "id": "9352c09c",
   "metadata": {},
   "outputs": [],
   "source": []
  },
  {
   "cell_type": "code",
   "execution_count": null,
   "id": "2e346b2a",
   "metadata": {},
   "outputs": [],
   "source": []
  },
  {
   "cell_type": "code",
   "execution_count": null,
   "id": "4b5c5312",
   "metadata": {},
   "outputs": [],
   "source": []
  },
  {
   "cell_type": "code",
   "execution_count": null,
   "id": "9be5d65f",
   "metadata": {},
   "outputs": [],
   "source": []
  },
  {
   "cell_type": "code",
   "execution_count": null,
   "id": "1fa99a25",
   "metadata": {},
   "outputs": [],
   "source": []
  },
  {
   "cell_type": "code",
   "execution_count": null,
   "id": "56efa736",
   "metadata": {},
   "outputs": [],
   "source": []
  },
  {
   "cell_type": "code",
   "execution_count": null,
   "id": "2544d2f9",
   "metadata": {},
   "outputs": [],
   "source": []
  },
  {
   "cell_type": "code",
   "execution_count": null,
   "id": "ca7d38ab",
   "metadata": {},
   "outputs": [],
   "source": []
  },
  {
   "cell_type": "code",
   "execution_count": null,
   "id": "5b511f52",
   "metadata": {},
   "outputs": [],
   "source": []
  },
  {
   "cell_type": "code",
   "execution_count": null,
   "id": "10b6341d",
   "metadata": {},
   "outputs": [],
   "source": []
  },
  {
   "cell_type": "code",
   "execution_count": null,
   "id": "f5d9a32e",
   "metadata": {},
   "outputs": [],
   "source": []
  },
  {
   "cell_type": "code",
   "execution_count": null,
   "id": "1e1df3a4",
   "metadata": {},
   "outputs": [],
   "source": []
  },
  {
   "cell_type": "code",
   "execution_count": null,
   "id": "8cc8862a",
   "metadata": {},
   "outputs": [],
   "source": []
  },
  {
   "cell_type": "code",
   "execution_count": null,
   "id": "9f9a1ae9",
   "metadata": {},
   "outputs": [],
   "source": []
  },
  {
   "cell_type": "code",
   "execution_count": null,
   "id": "1cb40296",
   "metadata": {},
   "outputs": [],
   "source": []
  },
  {
   "cell_type": "code",
   "execution_count": null,
   "id": "bd8a1049",
   "metadata": {},
   "outputs": [],
   "source": []
  },
  {
   "cell_type": "code",
   "execution_count": null,
   "id": "3104b154",
   "metadata": {},
   "outputs": [],
   "source": []
  },
  {
   "cell_type": "code",
   "execution_count": null,
   "id": "5057cf14",
   "metadata": {},
   "outputs": [],
   "source": []
  },
  {
   "cell_type": "code",
   "execution_count": null,
   "id": "f37a6f8b",
   "metadata": {},
   "outputs": [],
   "source": []
  },
  {
   "cell_type": "code",
   "execution_count": null,
   "id": "0f3c5479",
   "metadata": {},
   "outputs": [],
   "source": []
  },
  {
   "cell_type": "code",
   "execution_count": null,
   "id": "81a5ff5b",
   "metadata": {},
   "outputs": [],
   "source": []
  },
  {
   "cell_type": "code",
   "execution_count": null,
   "id": "160551a4",
   "metadata": {},
   "outputs": [],
   "source": []
  }
 ],
 "metadata": {
  "kernelspec": {
   "display_name": "Python 3 (ipykernel)",
   "language": "python",
   "name": "python3"
  },
  "language_info": {
   "codemirror_mode": {
    "name": "ipython",
    "version": 3
   },
   "file_extension": ".py",
   "mimetype": "text/x-python",
   "name": "python",
   "nbconvert_exporter": "python",
   "pygments_lexer": "ipython3",
   "version": "3.11.7"
  }
 },
 "nbformat": 4,
 "nbformat_minor": 5
}
