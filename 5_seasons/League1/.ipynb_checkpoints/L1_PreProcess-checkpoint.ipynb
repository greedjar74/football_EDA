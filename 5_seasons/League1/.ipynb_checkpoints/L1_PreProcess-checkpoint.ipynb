{
 "cells": [
  {
   "cell_type": "markdown",
   "id": "dda46e67",
   "metadata": {},
   "source": [
    "# 데이터 병합"
   ]
  },
  {
   "cell_type": "code",
   "execution_count": 1,
   "id": "b58c5525",
   "metadata": {},
   "outputs": [],
   "source": [
    "import pandas as pd\n",
    "import numpy as np\n",
    "import matplotlib.pyplot as plt\n",
    "import seaborn as sns\n",
    "import os"
   ]
  },
  {
   "cell_type": "markdown",
   "id": "bd40aa6e",
   "metadata": {},
   "source": [
    "# player데이터 병합"
   ]
  },
  {
   "cell_type": "code",
   "execution_count": 2,
   "id": "d3185ba3",
   "metadata": {},
   "outputs": [],
   "source": [
    "player_def_path = './L1_Player_Def/'\n",
    "player_off_path = './L1_Player_Off/'\n",
    "player_pass_path = './L1_Player_Pass/'\n",
    "player_summary_path = './L1_Player_Summary/'"
   ]
  },
  {
   "cell_type": "code",
   "execution_count": 3,
   "id": "67056473",
   "metadata": {},
   "outputs": [],
   "source": [
    "player_def_path_list = os.listdir(player_def_path)\n",
    "player_off_path_list = os.listdir(player_off_path)\n",
    "player_pass_path_list = os.listdir(player_pass_path)\n",
    "player_summary_path_list = os.listdir(player_summary_path)"
   ]
  },
  {
   "cell_type": "code",
   "execution_count": 4,
   "id": "e6fa0f24",
   "metadata": {},
   "outputs": [],
   "source": [
    "player_def_path_list.sort()\n",
    "player_off_path_list.sort()\n",
    "player_pass_path_list.sort()\n",
    "player_summary_path_list.sort()"
   ]
  },
  {
   "cell_type": "code",
   "execution_count": 8,
   "id": "8457c1ec",
   "metadata": {},
   "outputs": [
    {
     "data": {
      "text/plain": [
       "['18_19_L1_Player_Stats.csv',\n",
       " '19_20_L1_Player_Stats.csv',\n",
       " '20_21_L1_Player_Stats.csv',\n",
       " '21_22_L1_Player_Stats.csv',\n",
       " '22_23_L1_Player_Stats.csv']"
      ]
     },
     "execution_count": 8,
     "metadata": {},
     "output_type": "execute_result"
    }
   ],
   "source": [
    "player_summary_path_list"
   ]
  },
  {
   "cell_type": "code",
   "execution_count": 9,
   "id": "abc075f3",
   "metadata": {},
   "outputs": [],
   "source": [
    "player_summary_data = []\n",
    "for path in player_summary_path_list:\n",
    "    player_summary_data.append(pd.read_csv(player_summary_path + path))\n",
    "    \n",
    "player_def_data = []\n",
    "for path in player_def_path_list:\n",
    "    player_def_data.append(pd.read_csv(player_def_path + path))\n",
    "\n",
    "player_off_data = []\n",
    "for path in player_off_path_list:\n",
    "    player_off_data.append(pd.read_csv(player_off_path + path))\n",
    "\n",
    "player_pass_data = []\n",
    "for path in player_pass_path_list:\n",
    "    player_pass_data.append(pd.read_csv(player_pass_path + path))"
   ]
  },
  {
   "cell_type": "code",
   "execution_count": 10,
   "id": "9bb5a3e0",
   "metadata": {},
   "outputs": [],
   "source": [
    "for data in player_summary_data:\n",
    "    data.drop('Unnamed: 0', axis=1, inplace=True)\n",
    "    \n",
    "for data in player_def_data:\n",
    "    data.drop('Unnamed: 0', axis=1, inplace=True)\n",
    "    \n",
    "for data in player_off_data:\n",
    "    data.drop('Unnamed: 0', axis=1, inplace=True)\n",
    "    \n",
    "for data in player_pass_data:\n",
    "    data.drop('Unnamed: 0', axis=1, inplace=True)"
   ]
  },
  {
   "cell_type": "code",
   "execution_count": 11,
   "id": "c60394d2",
   "metadata": {},
   "outputs": [
    {
     "name": "stdout",
     "output_type": "stream",
     "text": [
      "(309, 23)\n",
      "(313, 31)\n",
      "(321, 36)\n",
      "(301, 23)\n",
      "(301, 31)\n",
      "(301, 36)\n",
      "(334, 23)\n",
      "(334, 31)\n",
      "(334, 36)\n",
      "(310, 23)\n",
      "(310, 31)\n",
      "(310, 36)\n",
      "(311, 23)\n",
      "(311, 31)\n",
      "(311, 36)\n"
     ]
    }
   ],
   "source": [
    "player_merged_data_list = []\n",
    "\n",
    "for i in range(5):\n",
    "    tmp1 = pd.merge(player_summary_data[i], player_def_data[i], on='Name', how='inner')\n",
    "    print(tmp1.shape)\n",
    "    tmp2 = pd.merge(tmp1, player_off_data[i], on='Name', how='inner')\n",
    "    print(tmp2.shape)\n",
    "    tmp3 = pd.merge(tmp2, player_pass_data[i], on='Name', how='inner')\n",
    "    print(tmp3.shape)\n",
    "    \n",
    "    player_merged_data_list.append(tmp3)"
   ]
  },
  {
   "cell_type": "code",
   "execution_count": 12,
   "id": "4893d1eb",
   "metadata": {},
   "outputs": [
    {
     "data": {
      "text/plain": [
       "Index(['Name', 'Team', 'Age', 'Position', 'Apps', 'Mins', 'Goals_x',\n",
       "       'Assists_x', 'Yellow', 'Red', 'SpG_x', 'PS', 'Aerialswon', 'MotM',\n",
       "       'Rating', 'Tackles', 'Inter', 'Fouls', 'Offsides', 'Clear', 'Drb_x',\n",
       "       'Blocks', 'OwnG', 'Goals_y', 'Assists_y', 'SpG_y', 'Drb_y', 'Fouled',\n",
       "       'Off', 'Disp', 'UnsTch', 'AvgP', 'PSp', 'Crosses', 'LonB', 'ThrB'],\n",
       "      dtype='object')"
      ]
     },
     "execution_count": 12,
     "metadata": {},
     "output_type": "execute_result"
    }
   ],
   "source": [
    "player_merged_data_list[0].columns"
   ]
  },
  {
   "cell_type": "code",
   "execution_count": 13,
   "id": "33c61ba0",
   "metadata": {},
   "outputs": [],
   "source": [
    "for player_merged_data in player_merged_data_list:\n",
    "    player_merged_data.drop(['Goals_y', 'Assists_y', 'SpG_y'], axis=1, inplace=True)"
   ]
  },
  {
   "cell_type": "code",
   "execution_count": 15,
   "id": "23aba636",
   "metadata": {},
   "outputs": [],
   "source": [
    "for player_merged_data in player_merged_data_list:\n",
    "    player_merged_data.columns = ['Name', 'Team', 'Age', 'Position', 'Apps', 'Mins', 'Goals',\n",
    "       'Assists', 'Yellow', 'Red', 'SpG', 'PS', 'Aerialswon', 'MotM',\n",
    "       'Rating', 'Tackles', 'Inter', 'Fouls', 'Offsides', 'Clear', 'Drb_def',\n",
    "       'Blocks', 'OwnG', 'Drb_off', 'Fouled', 'Off', 'Disp', 'UnsTch', 'AvgP',\n",
    "       'PSp', 'Crosses', 'LonB', 'ThrB']"
   ]
  },
  {
   "cell_type": "code",
   "execution_count": 16,
   "id": "f215932e",
   "metadata": {},
   "outputs": [],
   "source": [
    "player_merged_data_list[0].to_csv('18_19_L1_Player.csv')\n",
    "player_merged_data_list[1].to_csv('19_20_L1_Player.csv')\n",
    "player_merged_data_list[2].to_csv('20_21_L1_Player.csv')\n",
    "player_merged_data_list[3].to_csv('21_22_L1_Player.csv')\n",
    "player_merged_data_list[4].to_csv('22_23_L1_Player.csv')"
   ]
  },
  {
   "cell_type": "markdown",
   "id": "bde35bef",
   "metadata": {},
   "source": [
    "# team 데이터 병합"
   ]
  },
  {
   "cell_type": "code",
   "execution_count": 17,
   "id": "91a7f7a6",
   "metadata": {},
   "outputs": [],
   "source": [
    "team_def_path = './L1_Team_Def/'\n",
    "team_off_path = './L1_Team_Off/'\n",
    "team_table_path = './L1_Team_Table/'\n",
    "team_summary_path = './L1_Team_Summary/'"
   ]
  },
  {
   "cell_type": "code",
   "execution_count": 18,
   "id": "ff93d790",
   "metadata": {},
   "outputs": [],
   "source": [
    "team_def_path_list = os.listdir(team_def_path)\n",
    "team_off_path_list = os.listdir(team_off_path)\n",
    "team_table_path_list = os.listdir(team_table_path)\n",
    "team_summary_path_list = os.listdir(team_summary_path)"
   ]
  },
  {
   "cell_type": "code",
   "execution_count": 19,
   "id": "4686ec2c",
   "metadata": {},
   "outputs": [],
   "source": [
    "team_def_path_list.sort()\n",
    "team_off_path_list.sort()\n",
    "team_table_path_list.sort()\n",
    "team_summary_path_list.sort()"
   ]
  },
  {
   "cell_type": "code",
   "execution_count": 20,
   "id": "e59d46bb",
   "metadata": {},
   "outputs": [
    {
     "data": {
      "text/plain": [
       "['18_19_L1_Team_Stats_defensive.csv',\n",
       " '19_20_L1_Team_Stats_defensive.csv',\n",
       " '20_21_L1_Team_Stats_defensive.csv',\n",
       " '21_22_L1_Team_Stats_defensive.csv',\n",
       " '22_23_L1_Team_Stats_defensive.csv']"
      ]
     },
     "execution_count": 20,
     "metadata": {},
     "output_type": "execute_result"
    }
   ],
   "source": [
    "team_def_path_list"
   ]
  },
  {
   "cell_type": "code",
   "execution_count": 21,
   "id": "860b79cb",
   "metadata": {},
   "outputs": [],
   "source": [
    "team_summary_data = []\n",
    "for path in team_summary_path_list:\n",
    "    team_summary_data.append(pd.read_csv(team_summary_path + path))\n",
    "    \n",
    "team_def_data = []\n",
    "for path in team_def_path_list:\n",
    "    team_def_data.append(pd.read_csv(team_def_path + path))\n",
    "\n",
    "team_off_data = []\n",
    "for path in team_off_path_list:\n",
    "    team_off_data.append(pd.read_csv(team_off_path + path))\n",
    "\n",
    "team_table_data = []\n",
    "for path in team_table_path_list:\n",
    "    team_table_data.append(pd.read_csv(team_table_path + path))"
   ]
  },
  {
   "cell_type": "code",
   "execution_count": 22,
   "id": "45721584",
   "metadata": {},
   "outputs": [],
   "source": [
    "for data in team_summary_data:\n",
    "    data.drop('Unnamed: 0', axis=1, inplace=True)\n",
    "    \n",
    "for data in team_def_data:\n",
    "    data.drop('Unnamed: 0', axis=1, inplace=True)\n",
    "    \n",
    "for data in team_off_data:\n",
    "    data.drop('Unnamed: 0', axis=1, inplace=True)\n",
    "    \n",
    "for data in team_table_data:\n",
    "    data.drop('Unnamed: 0', axis=1, inplace=True)"
   ]
  },
  {
   "cell_type": "code",
   "execution_count": 23,
   "id": "8a729d33",
   "metadata": {},
   "outputs": [
    {
     "name": "stdout",
     "output_type": "stream",
     "text": [
      "(20, 14)\n",
      "(20, 18)\n",
      "(20, 26)\n",
      "(20, 14)\n",
      "(20, 18)\n",
      "(20, 26)\n",
      "(20, 14)\n",
      "(20, 18)\n",
      "(20, 26)\n",
      "(20, 14)\n",
      "(20, 18)\n",
      "(20, 26)\n",
      "(20, 14)\n",
      "(20, 18)\n",
      "(20, 26)\n"
     ]
    }
   ],
   "source": [
    "team_merged_data_list = []\n",
    "\n",
    "for i in range(5):\n",
    "    tmp1 = pd.merge(team_summary_data[i], team_def_data[i], on='Team', how='inner')\n",
    "    print(tmp1.shape)\n",
    "    tmp2 = pd.merge(tmp1, team_off_data[i], on='Team', how='inner')\n",
    "    print(tmp2.shape)\n",
    "    tmp3 = pd.merge(tmp2, team_table_data[i], on='Team', how='inner')\n",
    "    print(tmp3.shape)\n",
    "    \n",
    "    team_merged_data_list.append(tmp3)"
   ]
  },
  {
   "cell_type": "code",
   "execution_count": 25,
   "id": "24849658",
   "metadata": {},
   "outputs": [
    {
     "data": {
      "text/html": [
       "<div>\n",
       "<style scoped>\n",
       "    .dataframe tbody tr th:only-of-type {\n",
       "        vertical-align: middle;\n",
       "    }\n",
       "\n",
       "    .dataframe tbody tr th {\n",
       "        vertical-align: top;\n",
       "    }\n",
       "\n",
       "    .dataframe thead th {\n",
       "        text-align: right;\n",
       "    }\n",
       "</style>\n",
       "<table border=\"1\" class=\"dataframe\">\n",
       "  <thead>\n",
       "    <tr style=\"text-align: right;\">\n",
       "      <th></th>\n",
       "      <th>Team</th>\n",
       "      <th>Goals</th>\n",
       "      <th>Shotspg</th>\n",
       "      <th>Yellow</th>\n",
       "      <th>Red</th>\n",
       "      <th>Possession</th>\n",
       "      <th>Pass</th>\n",
       "      <th>AerialsWon</th>\n",
       "      <th>Rating</th>\n",
       "    </tr>\n",
       "  </thead>\n",
       "  <tbody>\n",
       "    <tr>\n",
       "      <th>0</th>\n",
       "      <td>Paris Saint-Germain</td>\n",
       "      <td>105</td>\n",
       "      <td>14.8</td>\n",
       "      <td>64</td>\n",
       "      <td>4</td>\n",
       "      <td>60.4</td>\n",
       "      <td>88.9</td>\n",
       "      <td>11.0</td>\n",
       "      <td>7.05</td>\n",
       "    </tr>\n",
       "    <tr>\n",
       "      <th>1</th>\n",
       "      <td>Lyon</td>\n",
       "      <td>70</td>\n",
       "      <td>17.7</td>\n",
       "      <td>53</td>\n",
       "      <td>3</td>\n",
       "      <td>58.2</td>\n",
       "      <td>85.9</td>\n",
       "      <td>16.6</td>\n",
       "      <td>6.91</td>\n",
       "    </tr>\n",
       "    <tr>\n",
       "      <th>2</th>\n",
       "      <td>Lille</td>\n",
       "      <td>68</td>\n",
       "      <td>13.1</td>\n",
       "      <td>70</td>\n",
       "      <td>4</td>\n",
       "      <td>51.1</td>\n",
       "      <td>81.1</td>\n",
       "      <td>15.4</td>\n",
       "      <td>6.84</td>\n",
       "    </tr>\n",
       "    <tr>\n",
       "      <th>3</th>\n",
       "      <td>Montpellier</td>\n",
       "      <td>53</td>\n",
       "      <td>13.4</td>\n",
       "      <td>59</td>\n",
       "      <td>4</td>\n",
       "      <td>48.3</td>\n",
       "      <td>78.5</td>\n",
       "      <td>20.3</td>\n",
       "      <td>6.81</td>\n",
       "    </tr>\n",
       "    <tr>\n",
       "      <th>4</th>\n",
       "      <td>Saint-Etienne</td>\n",
       "      <td>59</td>\n",
       "      <td>13.1</td>\n",
       "      <td>59</td>\n",
       "      <td>7</td>\n",
       "      <td>30.6</td>\n",
       "      <td>81.1</td>\n",
       "      <td>16.6</td>\n",
       "      <td>6.78</td>\n",
       "    </tr>\n",
       "    <tr>\n",
       "      <th>5</th>\n",
       "      <td>Marseille</td>\n",
       "      <td>60</td>\n",
       "      <td>13.9</td>\n",
       "      <td>82</td>\n",
       "      <td>8</td>\n",
       "      <td>53.5</td>\n",
       "      <td>82.4</td>\n",
       "      <td>18.9</td>\n",
       "      <td>6.78</td>\n",
       "    </tr>\n",
       "    <tr>\n",
       "      <th>6</th>\n",
       "      <td>Nice</td>\n",
       "      <td>30</td>\n",
       "      <td>11.6</td>\n",
       "      <td>71</td>\n",
       "      <td>5</td>\n",
       "      <td>54.6</td>\n",
       "      <td>86.0</td>\n",
       "      <td>14.3</td>\n",
       "      <td>6.76</td>\n",
       "    </tr>\n",
       "    <tr>\n",
       "      <th>7</th>\n",
       "      <td>Nimes</td>\n",
       "      <td>57</td>\n",
       "      <td>13.7</td>\n",
       "      <td>68</td>\n",
       "      <td>5</td>\n",
       "      <td>46.7</td>\n",
       "      <td>74.4</td>\n",
       "      <td>19.2</td>\n",
       "      <td>6.75</td>\n",
       "    </tr>\n",
       "    <tr>\n",
       "      <th>8</th>\n",
       "      <td>Strasbourg</td>\n",
       "      <td>58</td>\n",
       "      <td>10.6</td>\n",
       "      <td>69</td>\n",
       "      <td>4</td>\n",
       "      <td>49.8</td>\n",
       "      <td>80.5</td>\n",
       "      <td>17.3</td>\n",
       "      <td>6.73</td>\n",
       "    </tr>\n",
       "    <tr>\n",
       "      <th>9</th>\n",
       "      <td>Rennes</td>\n",
       "      <td>55</td>\n",
       "      <td>12.4</td>\n",
       "      <td>66</td>\n",
       "      <td>3</td>\n",
       "      <td>50.7</td>\n",
       "      <td>81.2</td>\n",
       "      <td>17.1</td>\n",
       "      <td>6.73</td>\n",
       "    </tr>\n",
       "    <tr>\n",
       "      <th>10</th>\n",
       "      <td>Reims</td>\n",
       "      <td>39</td>\n",
       "      <td>10.7</td>\n",
       "      <td>67</td>\n",
       "      <td>2</td>\n",
       "      <td>45.1</td>\n",
       "      <td>75.9</td>\n",
       "      <td>17.9</td>\n",
       "      <td>6.72</td>\n",
       "    </tr>\n",
       "    <tr>\n",
       "      <th>11</th>\n",
       "      <td>Nantes</td>\n",
       "      <td>48</td>\n",
       "      <td>13.6</td>\n",
       "      <td>70</td>\n",
       "      <td>6</td>\n",
       "      <td>49.8</td>\n",
       "      <td>76.7</td>\n",
       "      <td>21.2</td>\n",
       "      <td>6.71</td>\n",
       "    </tr>\n",
       "    <tr>\n",
       "      <th>12</th>\n",
       "      <td>Angers</td>\n",
       "      <td>44</td>\n",
       "      <td>11.9</td>\n",
       "      <td>49</td>\n",
       "      <td>4</td>\n",
       "      <td>19.2</td>\n",
       "      <td>79.2</td>\n",
       "      <td>16.8</td>\n",
       "      <td>6.70</td>\n",
       "    </tr>\n",
       "    <tr>\n",
       "      <th>13</th>\n",
       "      <td>Bordeaux</td>\n",
       "      <td>34</td>\n",
       "      <td>11.2</td>\n",
       "      <td>75</td>\n",
       "      <td>5</td>\n",
       "      <td>22.3</td>\n",
       "      <td>80.3</td>\n",
       "      <td>18.1</td>\n",
       "      <td>6.67</td>\n",
       "    </tr>\n",
       "    <tr>\n",
       "      <th>14</th>\n",
       "      <td>Toulouse</td>\n",
       "      <td>35</td>\n",
       "      <td>11.4</td>\n",
       "      <td>73</td>\n",
       "      <td>5</td>\n",
       "      <td>48.7</td>\n",
       "      <td>77.8</td>\n",
       "      <td>19.7</td>\n",
       "      <td>6.62</td>\n",
       "    </tr>\n",
       "    <tr>\n",
       "      <th>15</th>\n",
       "      <td>Monaco</td>\n",
       "      <td>38</td>\n",
       "      <td>12.3</td>\n",
       "      <td>89</td>\n",
       "      <td>7</td>\n",
       "      <td>49.7</td>\n",
       "      <td>80.5</td>\n",
       "      <td>16.8</td>\n",
       "      <td>6.61</td>\n",
       "    </tr>\n",
       "    <tr>\n",
       "      <th>16</th>\n",
       "      <td>Caen</td>\n",
       "      <td>29</td>\n",
       "      <td>8.8</td>\n",
       "      <td>75</td>\n",
       "      <td>6</td>\n",
       "      <td>45.8</td>\n",
       "      <td>76.4</td>\n",
       "      <td>21.1</td>\n",
       "      <td>6.59</td>\n",
       "    </tr>\n",
       "    <tr>\n",
       "      <th>17</th>\n",
       "      <td>Dijon</td>\n",
       "      <td>31</td>\n",
       "      <td>12.0</td>\n",
       "      <td>71</td>\n",
       "      <td>7</td>\n",
       "      <td>48.3</td>\n",
       "      <td>78.2</td>\n",
       "      <td>19.2</td>\n",
       "      <td>6.59</td>\n",
       "    </tr>\n",
       "    <tr>\n",
       "      <th>18</th>\n",
       "      <td>Amiens</td>\n",
       "      <td>31</td>\n",
       "      <td>10.2</td>\n",
       "      <td>56</td>\n",
       "      <td>6</td>\n",
       "      <td>47.3</td>\n",
       "      <td>75.9</td>\n",
       "      <td>19.5</td>\n",
       "      <td>6.57</td>\n",
       "    </tr>\n",
       "    <tr>\n",
       "      <th>19</th>\n",
       "      <td>Guingamp</td>\n",
       "      <td>28</td>\n",
       "      <td>10.9</td>\n",
       "      <td>58</td>\n",
       "      <td>5</td>\n",
       "      <td>45.4</td>\n",
       "      <td>75.2</td>\n",
       "      <td>21.3</td>\n",
       "      <td>6.55</td>\n",
       "    </tr>\n",
       "  </tbody>\n",
       "</table>\n",
       "</div>"
      ],
      "text/plain": [
       "                   Team  Goals  Shotspg  Yellow  Red  Possession  Pass  \\\n",
       "0   Paris Saint-Germain    105     14.8      64    4        60.4  88.9   \n",
       "1                  Lyon     70     17.7      53    3        58.2  85.9   \n",
       "2                 Lille     68     13.1      70    4        51.1  81.1   \n",
       "3           Montpellier     53     13.4      59    4        48.3  78.5   \n",
       "4         Saint-Etienne     59     13.1      59    7        30.6  81.1   \n",
       "5             Marseille     60     13.9      82    8        53.5  82.4   \n",
       "6                  Nice     30     11.6      71    5        54.6  86.0   \n",
       "7                 Nimes     57     13.7      68    5        46.7  74.4   \n",
       "8            Strasbourg     58     10.6      69    4        49.8  80.5   \n",
       "9                Rennes     55     12.4      66    3        50.7  81.2   \n",
       "10                Reims     39     10.7      67    2        45.1  75.9   \n",
       "11               Nantes     48     13.6      70    6        49.8  76.7   \n",
       "12               Angers     44     11.9      49    4        19.2  79.2   \n",
       "13             Bordeaux     34     11.2      75    5        22.3  80.3   \n",
       "14             Toulouse     35     11.4      73    5        48.7  77.8   \n",
       "15               Monaco     38     12.3      89    7        49.7  80.5   \n",
       "16                 Caen     29      8.8      75    6        45.8  76.4   \n",
       "17                Dijon     31     12.0      71    7        48.3  78.2   \n",
       "18               Amiens     31     10.2      56    6        47.3  75.9   \n",
       "19             Guingamp     28     10.9      58    5        45.4  75.2   \n",
       "\n",
       "    AerialsWon  Rating  \n",
       "0         11.0    7.05  \n",
       "1         16.6    6.91  \n",
       "2         15.4    6.84  \n",
       "3         20.3    6.81  \n",
       "4         16.6    6.78  \n",
       "5         18.9    6.78  \n",
       "6         14.3    6.76  \n",
       "7         19.2    6.75  \n",
       "8         17.3    6.73  \n",
       "9         17.1    6.73  \n",
       "10        17.9    6.72  \n",
       "11        21.2    6.71  \n",
       "12        16.8    6.70  \n",
       "13        18.1    6.67  \n",
       "14        19.7    6.62  \n",
       "15        16.8    6.61  \n",
       "16        21.1    6.59  \n",
       "17        19.2    6.59  \n",
       "18        19.5    6.57  \n",
       "19        21.3    6.55  "
      ]
     },
     "execution_count": 25,
     "metadata": {},
     "output_type": "execute_result"
    }
   ],
   "source": [
    "team_summary_data[0]"
   ]
  },
  {
   "cell_type": "code",
   "execution_count": 26,
   "id": "7761b073",
   "metadata": {},
   "outputs": [
    {
     "name": "stdout",
     "output_type": "stream",
     "text": [
      "(20, 17)\n",
      "(20, 22)\n",
      "(20, 26)\n",
      "(20, 17)\n",
      "(20, 22)\n",
      "(20, 26)\n",
      "(20, 17)\n",
      "(20, 22)\n",
      "(20, 26)\n",
      "(20, 17)\n",
      "(20, 22)\n",
      "(20, 26)\n",
      "(20, 17)\n",
      "(20, 22)\n",
      "(20, 26)\n"
     ]
    }
   ],
   "source": [
    "team_merged_data_list = []\n",
    "\n",
    "for i in range(5):\n",
    "    tmp1 = pd.merge(team_table_data[i], team_summary_data[i], on='Team', how='inner')\n",
    "    print(tmp1.shape)\n",
    "    tmp2 = pd.merge(tmp1, team_def_data[i], on='Team', how='inner')\n",
    "    print(tmp2.shape)\n",
    "    tmp3 = pd.merge(tmp2, team_off_data[i], on='Team', how='inner')\n",
    "    print(tmp3.shape)\n",
    "    \n",
    "    team_merged_data_list.append(tmp3)"
   ]
  },
  {
   "cell_type": "code",
   "execution_count": 27,
   "id": "2159ebd9",
   "metadata": {},
   "outputs": [
    {
     "data": {
      "text/plain": [
       "Index(['Team', 'P', 'W', 'D', 'L', 'GF', 'GA', 'GD', 'Pts', 'Goals', 'Shotspg',\n",
       "       'Yellow', 'Red', 'Possession', 'Pass', 'AerialsWon', 'Rating',\n",
       "       'def_Shotspg', 'def_Tacklespg', 'def_Interceptionspg', 'def_Foulspg',\n",
       "       'def_Offsidespg', 'of_Shotspg', 'of_ShotsOTpg', 'of_Dribblespg',\n",
       "       'of_Fouledpg'],\n",
       "      dtype='object')"
      ]
     },
     "execution_count": 27,
     "metadata": {},
     "output_type": "execute_result"
    }
   ],
   "source": [
    "team_merged_data_list[0].columns"
   ]
  },
  {
   "cell_type": "code",
   "execution_count": 28,
   "id": "0e0383f8",
   "metadata": {},
   "outputs": [],
   "source": [
    "team_merged_data_list[0].to_csv('18_19_L1_Team.csv')\n",
    "team_merged_data_list[1].to_csv('19_20_L1_Team.csv')\n",
    "team_merged_data_list[2].to_csv('20_21_L1_Team.csv')\n",
    "team_merged_data_list[3].to_csv('21_22_L1_Team.csv')\n",
    "team_merged_data_list[4].to_csv('22_23_L1_Team.csv')"
   ]
  },
  {
   "cell_type": "code",
   "execution_count": null,
   "id": "ba564ecd",
   "metadata": {},
   "outputs": [],
   "source": []
  },
  {
   "cell_type": "code",
   "execution_count": null,
   "id": "f57d4a69",
   "metadata": {},
   "outputs": [],
   "source": []
  },
  {
   "cell_type": "code",
   "execution_count": null,
   "id": "7336979a",
   "metadata": {},
   "outputs": [],
   "source": []
  },
  {
   "cell_type": "code",
   "execution_count": null,
   "id": "944e0e1c",
   "metadata": {},
   "outputs": [],
   "source": []
  },
  {
   "cell_type": "code",
   "execution_count": null,
   "id": "1fc358b0",
   "metadata": {},
   "outputs": [],
   "source": []
  },
  {
   "cell_type": "code",
   "execution_count": null,
   "id": "de9b772e",
   "metadata": {},
   "outputs": [],
   "source": []
  },
  {
   "cell_type": "code",
   "execution_count": null,
   "id": "3f85c5c9",
   "metadata": {},
   "outputs": [],
   "source": []
  },
  {
   "cell_type": "code",
   "execution_count": null,
   "id": "c54995bf",
   "metadata": {},
   "outputs": [],
   "source": []
  },
  {
   "cell_type": "code",
   "execution_count": null,
   "id": "1f921e0a",
   "metadata": {},
   "outputs": [],
   "source": []
  },
  {
   "cell_type": "code",
   "execution_count": null,
   "id": "16970456",
   "metadata": {},
   "outputs": [],
   "source": []
  },
  {
   "cell_type": "code",
   "execution_count": null,
   "id": "9dc866cd",
   "metadata": {},
   "outputs": [],
   "source": []
  },
  {
   "cell_type": "code",
   "execution_count": null,
   "id": "e006791c",
   "metadata": {},
   "outputs": [],
   "source": []
  },
  {
   "cell_type": "code",
   "execution_count": null,
   "id": "89c65a27",
   "metadata": {},
   "outputs": [],
   "source": []
  },
  {
   "cell_type": "code",
   "execution_count": null,
   "id": "c55b4179",
   "metadata": {},
   "outputs": [],
   "source": []
  }
 ],
 "metadata": {
  "kernelspec": {
   "display_name": "Python 3 (ipykernel)",
   "language": "python",
   "name": "python3"
  },
  "language_info": {
   "codemirror_mode": {
    "name": "ipython",
    "version": 3
   },
   "file_extension": ".py",
   "mimetype": "text/x-python",
   "name": "python",
   "nbconvert_exporter": "python",
   "pygments_lexer": "ipython3",
   "version": "3.11.7"
  }
 },
 "nbformat": 4,
 "nbformat_minor": 5
}
