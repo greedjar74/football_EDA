{
 "cells": [
  {
   "cell_type": "markdown",
   "id": "dda46e67",
   "metadata": {},
   "source": [
    "# 데이터 병합"
   ]
  },
  {
   "cell_type": "code",
   "execution_count": 1,
   "id": "b58c5525",
   "metadata": {},
   "outputs": [],
   "source": [
    "import pandas as pd\n",
    "import numpy as np\n",
    "import matplotlib.pyplot as plt\n",
    "import seaborn as sns\n",
    "import os"
   ]
  },
  {
   "cell_type": "markdown",
   "id": "bd40aa6e",
   "metadata": {},
   "source": [
    "# player데이터 병합"
   ]
  },
  {
   "cell_type": "code",
   "execution_count": 2,
   "id": "d3185ba3",
   "metadata": {},
   "outputs": [],
   "source": [
    "player_def_path = './EPL_Player_Def/'\n",
    "player_off_path = './EPL_Player_Off/'\n",
    "player_pass_path = './EPL_Player_Pass/'\n",
    "player_summary_path = './EPL_Player_Summary/'"
   ]
  },
  {
   "cell_type": "code",
   "execution_count": 3,
   "id": "67056473",
   "metadata": {},
   "outputs": [],
   "source": [
    "player_def_path_list = os.listdir(player_def_path)\n",
    "player_off_path_list = os.listdir(player_off_path)\n",
    "player_pass_path_list = os.listdir(player_pass_path)\n",
    "player_summary_path_list = os.listdir(player_summary_path)"
   ]
  },
  {
   "cell_type": "code",
   "execution_count": 4,
   "id": "e6fa0f24",
   "metadata": {},
   "outputs": [],
   "source": [
    "player_def_path_list.sort()\n",
    "player_off_path_list.sort()\n",
    "player_pass_path_list.sort()\n",
    "player_summary_path_list.sort()"
   ]
  },
  {
   "cell_type": "code",
   "execution_count": 8,
   "id": "8457c1ec",
   "metadata": {},
   "outputs": [
    {
     "data": {
      "text/plain": [
       "['18_19_EPL_Player_Stats.csv',\n",
       " '19_20_EPL_Player_Stats.csv',\n",
       " '20_21_EPL_Player_Stats.csv',\n",
       " '21_22_EPL_Player_Stats.csv',\n",
       " '22_23_EPL_Player_Stats.csv']"
      ]
     },
     "execution_count": 8,
     "metadata": {},
     "output_type": "execute_result"
    }
   ],
   "source": [
    "player_summary_path_list"
   ]
  },
  {
   "cell_type": "code",
   "execution_count": 9,
   "id": "abc075f3",
   "metadata": {},
   "outputs": [],
   "source": [
    "player_summary_data = []\n",
    "for path in player_summary_path_list:\n",
    "    player_summary_data.append(pd.read_csv(player_summary_path + path))\n",
    "    \n",
    "player_def_data = []\n",
    "for path in player_def_path_list:\n",
    "    player_def_data.append(pd.read_csv(player_def_path + path))\n",
    "\n",
    "player_off_data = []\n",
    "for path in player_off_path_list:\n",
    "    player_off_data.append(pd.read_csv(player_off_path + path))\n",
    "\n",
    "player_pass_data = []\n",
    "for path in player_pass_path_list:\n",
    "    player_pass_data.append(pd.read_csv(player_pass_path + path))"
   ]
  },
  {
   "cell_type": "code",
   "execution_count": 10,
   "id": "9bb5a3e0",
   "metadata": {},
   "outputs": [],
   "source": [
    "for data in player_summary_data:\n",
    "    data.drop('Unnamed: 0', axis=1, inplace=True)\n",
    "    \n",
    "for data in player_def_data:\n",
    "    data.drop('Unnamed: 0', axis=1, inplace=True)\n",
    "    \n",
    "for data in player_off_data:\n",
    "    data.drop('Unnamed: 0', axis=1, inplace=True)\n",
    "    \n",
    "for data in player_pass_data:\n",
    "    data.drop('Unnamed: 0', axis=1, inplace=True)"
   ]
  },
  {
   "cell_type": "code",
   "execution_count": 11,
   "id": "c60394d2",
   "metadata": {},
   "outputs": [
    {
     "name": "stdout",
     "output_type": "stream",
     "text": [
      "(281, 23)\n",
      "(281, 31)\n",
      "(281, 36)\n",
      "(276, 23)\n",
      "(276, 31)\n",
      "(276, 36)\n",
      "(291, 23)\n",
      "(291, 31)\n",
      "(291, 36)\n",
      "(299, 23)\n",
      "(299, 31)\n",
      "(299, 36)\n",
      "(308, 23)\n",
      "(308, 31)\n",
      "(308, 36)\n"
     ]
    }
   ],
   "source": [
    "player_merged_data_list = []\n",
    "\n",
    "for i in range(5):\n",
    "    tmp1 = pd.merge(player_summary_data[i], player_def_data[i], on='Name', how='inner')\n",
    "    print(tmp1.shape)\n",
    "    tmp2 = pd.merge(tmp1, player_off_data[i], on='Name', how='inner')\n",
    "    print(tmp2.shape)\n",
    "    tmp3 = pd.merge(tmp2, player_pass_data[i], on='Name', how='inner')\n",
    "    print(tmp3.shape)\n",
    "    \n",
    "    player_merged_data_list.append(tmp3)"
   ]
  },
  {
   "cell_type": "code",
   "execution_count": 12,
   "id": "4893d1eb",
   "metadata": {},
   "outputs": [
    {
     "data": {
      "text/plain": [
       "Index(['Name', 'Team', 'Age', 'Position', 'Apps', 'Mins', 'Goals_x',\n",
       "       'Assists_x', 'Yellow', 'Red', 'SpG_x', 'PS', 'Aerialswon', 'MotM',\n",
       "       'Rating', 'Tackles', 'Inter', 'Fouls', 'Offsides', 'Clear', 'Drb_x',\n",
       "       'Blocks', 'OwnG', 'Goals_y', 'Assists_y', 'SpG_y', 'Drb_y', 'Fouled',\n",
       "       'Off', 'Disp', 'UnsTch', 'AvgP', 'PSp', 'Crosses', 'LonB', 'ThrB'],\n",
       "      dtype='object')"
      ]
     },
     "execution_count": 12,
     "metadata": {},
     "output_type": "execute_result"
    }
   ],
   "source": [
    "player_merged_data_list[0].columns"
   ]
  },
  {
   "cell_type": "code",
   "execution_count": 13,
   "id": "33c61ba0",
   "metadata": {},
   "outputs": [],
   "source": [
    "for player_merged_data in player_merged_data_list:\n",
    "    player_merged_data.drop(['Goals_y', 'Assists_y', 'SpG_y'], axis=1, inplace=True)"
   ]
  },
  {
   "cell_type": "code",
   "execution_count": 15,
   "id": "23aba636",
   "metadata": {},
   "outputs": [],
   "source": [
    "for player_merged_data in player_merged_data_list:\n",
    "    player_merged_data.columns = ['Name', 'Team', 'Age', 'Position', 'Apps', 'Mins', 'Goals',\n",
    "       'Assists', 'Yellow', 'Red', 'SpG', 'PS', 'Aerialswon', 'MotM',\n",
    "       'Rating', 'Tackles', 'Inter', 'Fouls', 'Offsides', 'Clear', 'Drb_def',\n",
    "       'Blocks', 'OwnG', 'Drb_off', 'Fouled', 'Off', 'Disp', 'UnsTch', 'AvgP',\n",
    "       'PSp', 'Crosses', 'LonB', 'ThrB']"
   ]
  },
  {
   "cell_type": "code",
   "execution_count": 16,
   "id": "f215932e",
   "metadata": {},
   "outputs": [],
   "source": [
    "player_merged_data_list[0].to_csv('18_19_EPL_Player.csv')\n",
    "player_merged_data_list[1].to_csv('19_20_EPL_Player.csv')\n",
    "player_merged_data_list[2].to_csv('20_21_EPL_Player.csv')\n",
    "player_merged_data_list[3].to_csv('21_22_EPL_Player.csv')\n",
    "player_merged_data_list[4].to_csv('22_23_EPL_Player.csv')"
   ]
  },
  {
   "cell_type": "markdown",
   "id": "bde35bef",
   "metadata": {},
   "source": [
    "# team 데이터 병합"
   ]
  },
  {
   "cell_type": "code",
   "execution_count": 4,
   "id": "91a7f7a6",
   "metadata": {},
   "outputs": [],
   "source": [
    "team_def_path = './EPL_Team_Def/'\n",
    "team_off_path = './EPL_Team_Off/'\n",
    "team_table_path = './EPL_Team_Table/'\n",
    "team_summary_path = './EPL_Team_Summary/'"
   ]
  },
  {
   "cell_type": "code",
   "execution_count": 5,
   "id": "ff93d790",
   "metadata": {},
   "outputs": [],
   "source": [
    "team_def_path_list = os.listdir(team_def_path)\n",
    "team_off_path_list = os.listdir(team_off_path)\n",
    "team_table_path_list = os.listdir(team_table_path)\n",
    "team_summary_path_list = os.listdir(team_summary_path)"
   ]
  },
  {
   "cell_type": "code",
   "execution_count": 6,
   "id": "4686ec2c",
   "metadata": {},
   "outputs": [],
   "source": [
    "team_def_path_list.sort()\n",
    "team_off_path_list.sort()\n",
    "team_table_path_list.sort()\n",
    "team_summary_path_list.sort()"
   ]
  },
  {
   "cell_type": "code",
   "execution_count": 7,
   "id": "e59d46bb",
   "metadata": {},
   "outputs": [
    {
     "data": {
      "text/plain": [
       "['18_19_EPL_Team_Stats_defensive.csv',\n",
       " '19_20_EPL_Team_Stats_defensive.csv',\n",
       " '20_21_EPL_Team_Stats_defensive.csv',\n",
       " '21_22_EPL_Team_Stats_defensive.csv',\n",
       " '22_23_EPL_Team_Stats_defensive.csv']"
      ]
     },
     "execution_count": 7,
     "metadata": {},
     "output_type": "execute_result"
    }
   ],
   "source": [
    "team_def_path_list"
   ]
  },
  {
   "cell_type": "code",
   "execution_count": 8,
   "id": "860b79cb",
   "metadata": {},
   "outputs": [],
   "source": [
    "team_summary_data = []\n",
    "for path in team_summary_path_list:\n",
    "    team_summary_data.append(pd.read_csv(team_summary_path + path))\n",
    "    \n",
    "team_def_data = []\n",
    "for path in team_def_path_list:\n",
    "    team_def_data.append(pd.read_csv(team_def_path + path))\n",
    "\n",
    "team_off_data = []\n",
    "for path in team_off_path_list:\n",
    "    team_off_data.append(pd.read_csv(team_off_path + path))\n",
    "\n",
    "team_table_data = []\n",
    "for path in team_table_path_list:\n",
    "    team_table_data.append(pd.read_csv(team_table_path + path))"
   ]
  },
  {
   "cell_type": "code",
   "execution_count": 9,
   "id": "45721584",
   "metadata": {},
   "outputs": [],
   "source": [
    "for data in team_summary_data:\n",
    "    data.drop('Unnamed: 0', axis=1, inplace=True)\n",
    "    \n",
    "for data in team_def_data:\n",
    "    data.drop('Unnamed: 0', axis=1, inplace=True)\n",
    "    \n",
    "for data in team_off_data:\n",
    "    data.drop('Unnamed: 0', axis=1, inplace=True)\n",
    "    \n",
    "for data in team_table_data:\n",
    "    data.drop('Unnamed: 0', axis=1, inplace=True)"
   ]
  },
  {
   "cell_type": "code",
   "execution_count": 10,
   "id": "8a729d33",
   "metadata": {},
   "outputs": [
    {
     "name": "stdout",
     "output_type": "stream",
     "text": [
      "(20, 14)\n",
      "(20, 18)\n",
      "(20, 26)\n",
      "(20, 14)\n",
      "(20, 18)\n",
      "(20, 26)\n",
      "(20, 14)\n",
      "(20, 18)\n",
      "(20, 26)\n",
      "(20, 14)\n",
      "(20, 18)\n",
      "(20, 26)\n",
      "(20, 14)\n",
      "(20, 18)\n",
      "(20, 26)\n"
     ]
    }
   ],
   "source": [
    "team_merged_data_list = []\n",
    "\n",
    "for i in range(5):\n",
    "    tmp1 = pd.merge(team_summary_data[i], team_def_data[i], on='Team', how='inner')\n",
    "    print(tmp1.shape)\n",
    "    tmp2 = pd.merge(tmp1, team_off_data[i], on='Team', how='inner')\n",
    "    print(tmp2.shape)\n",
    "    tmp3 = pd.merge(tmp2, team_table_data[i], on='Team', how='inner')\n",
    "    print(tmp3.shape)\n",
    "    \n",
    "    team_merged_data_list.append(tmp3)"
   ]
  },
  {
   "cell_type": "code",
   "execution_count": 11,
   "id": "957af71c",
   "metadata": {},
   "outputs": [
    {
     "ename": "NameError",
     "evalue": "name 'team_pass_data' is not defined",
     "output_type": "error",
     "traceback": [
      "\u001b[0;31m---------------------------------------------------------------------------\u001b[0m",
      "\u001b[0;31mNameError\u001b[0m                                 Traceback (most recent call last)",
      "Cell \u001b[0;32mIn[11], line 19\u001b[0m\n\u001b[1;32m     16\u001b[0m     tmp \u001b[38;5;241m=\u001b[39m pd\u001b[38;5;241m.\u001b[39mDataFrame(team_li, columns\u001b[38;5;241m=\u001b[39m[\u001b[38;5;124m'\u001b[39m\u001b[38;5;124mTeam\u001b[39m\u001b[38;5;124m'\u001b[39m])\n\u001b[1;32m     17\u001b[0m     data[\u001b[38;5;124m'\u001b[39m\u001b[38;5;124mTeam\u001b[39m\u001b[38;5;124m'\u001b[39m] \u001b[38;5;241m=\u001b[39m tmp\n\u001b[0;32m---> 19\u001b[0m \u001b[38;5;28;01mfor\u001b[39;00m data \u001b[38;5;129;01min\u001b[39;00m team_pass_data:\n\u001b[1;32m     20\u001b[0m     team_li \u001b[38;5;241m=\u001b[39m data[\u001b[38;5;124m'\u001b[39m\u001b[38;5;124mTeam\u001b[39m\u001b[38;5;124m'\u001b[39m]\u001b[38;5;241m.\u001b[39munique()\u001b[38;5;241m.\u001b[39mtolist()\n\u001b[1;32m     21\u001b[0m     \u001b[38;5;28;01mfor\u001b[39;00m i \u001b[38;5;129;01min\u001b[39;00m \u001b[38;5;28mrange\u001b[39m(\u001b[38;5;28mlen\u001b[39m(team_li)):\n",
      "\u001b[0;31mNameError\u001b[0m: name 'team_pass_data' is not defined"
     ]
    }
   ],
   "source": [
    "for data in team_def_data:\n",
    "    team_li = data['Team'].unique().tolist()\n",
    "    for i in range(len(team_li)):\n",
    "        if team_li[i] == 'Borussia M':\n",
    "            team_li[i] = 'Borussia M.Gladbach'\n",
    "            \n",
    "    tmp = pd.DataFrame(team_li, columns=['Team'])\n",
    "    data['Team'] = tmp\n",
    "\n",
    "for data in team_off_data:\n",
    "    team_li = data['Team'].unique().tolist()\n",
    "    for i in range(len(team_li)):\n",
    "        if team_li[i] == 'Borussia M':\n",
    "            team_li[i] = 'Borussia M.Gladbach'\n",
    "            \n",
    "    tmp = pd.DataFrame(team_li, columns=['Team'])\n",
    "    data['Team'] = tmp\n",
    "\n",
    "for data in team_pass_data:\n",
    "    team_li = data['Team'].unique().tolist()\n",
    "    for i in range(len(team_li)):\n",
    "        if team_li[i] == 'Borussia M':\n",
    "            team_li[i] = 'Borussia M.Gladbach'\n",
    "            \n",
    "    tmp = pd.DataFrame(team_li, columns=['Team'])\n",
    "    data['Team'] = tmp"
   ]
  },
  {
   "cell_type": "code",
   "execution_count": 12,
   "id": "24849658",
   "metadata": {},
   "outputs": [
    {
     "data": {
      "text/html": [
       "<div>\n",
       "<style scoped>\n",
       "    .dataframe tbody tr th:only-of-type {\n",
       "        vertical-align: middle;\n",
       "    }\n",
       "\n",
       "    .dataframe tbody tr th {\n",
       "        vertical-align: top;\n",
       "    }\n",
       "\n",
       "    .dataframe thead th {\n",
       "        text-align: right;\n",
       "    }\n",
       "</style>\n",
       "<table border=\"1\" class=\"dataframe\">\n",
       "  <thead>\n",
       "    <tr style=\"text-align: right;\">\n",
       "      <th></th>\n",
       "      <th>Team</th>\n",
       "      <th>Goals</th>\n",
       "      <th>Shotspg</th>\n",
       "      <th>Yellow</th>\n",
       "      <th>Red</th>\n",
       "      <th>Possession</th>\n",
       "      <th>Pass</th>\n",
       "      <th>AerialsWon</th>\n",
       "      <th>Rating</th>\n",
       "    </tr>\n",
       "  </thead>\n",
       "  <tbody>\n",
       "    <tr>\n",
       "      <th>0</th>\n",
       "      <td>Manchester City</td>\n",
       "      <td>95</td>\n",
       "      <td>18.0</td>\n",
       "      <td>44</td>\n",
       "      <td>1</td>\n",
       "      <td>25.7</td>\n",
       "      <td>89.0</td>\n",
       "      <td>14.3</td>\n",
       "      <td>7.09</td>\n",
       "    </tr>\n",
       "    <tr>\n",
       "      <th>1</th>\n",
       "      <td>Liverpool</td>\n",
       "      <td>89</td>\n",
       "      <td>15.1</td>\n",
       "      <td>37</td>\n",
       "      <td>2</td>\n",
       "      <td>58.8</td>\n",
       "      <td>84.4</td>\n",
       "      <td>16.0</td>\n",
       "      <td>7.01</td>\n",
       "    </tr>\n",
       "    <tr>\n",
       "      <th>2</th>\n",
       "      <td>Chelsea</td>\n",
       "      <td>63</td>\n",
       "      <td>16.0</td>\n",
       "      <td>49</td>\n",
       "      <td>0</td>\n",
       "      <td>20.3</td>\n",
       "      <td>87.6</td>\n",
       "      <td>14.0</td>\n",
       "      <td>6.89</td>\n",
       "    </tr>\n",
       "    <tr>\n",
       "      <th>3</th>\n",
       "      <td>Tottenham</td>\n",
       "      <td>67</td>\n",
       "      <td>14.1</td>\n",
       "      <td>56</td>\n",
       "      <td>3</td>\n",
       "      <td>56.7</td>\n",
       "      <td>83.2</td>\n",
       "      <td>16.1</td>\n",
       "      <td>6.86</td>\n",
       "    </tr>\n",
       "    <tr>\n",
       "      <th>4</th>\n",
       "      <td>Arsenal</td>\n",
       "      <td>73</td>\n",
       "      <td>12.3</td>\n",
       "      <td>72</td>\n",
       "      <td>2</td>\n",
       "      <td>27.0</td>\n",
       "      <td>83.3</td>\n",
       "      <td>14.9</td>\n",
       "      <td>6.79</td>\n",
       "    </tr>\n",
       "    <tr>\n",
       "      <th>5</th>\n",
       "      <td>Leicester</td>\n",
       "      <td>51</td>\n",
       "      <td>13.6</td>\n",
       "      <td>57</td>\n",
       "      <td>5</td>\n",
       "      <td>50.8</td>\n",
       "      <td>79.2</td>\n",
       "      <td>21.5</td>\n",
       "      <td>6.78</td>\n",
       "    </tr>\n",
       "    <tr>\n",
       "      <th>6</th>\n",
       "      <td>Crystal Palace</td>\n",
       "      <td>51</td>\n",
       "      <td>13.0</td>\n",
       "      <td>58</td>\n",
       "      <td>2</td>\n",
       "      <td>46.6</td>\n",
       "      <td>76.8</td>\n",
       "      <td>18.1</td>\n",
       "      <td>6.78</td>\n",
       "    </tr>\n",
       "    <tr>\n",
       "      <th>7</th>\n",
       "      <td>West Ham</td>\n",
       "      <td>52</td>\n",
       "      <td>11.6</td>\n",
       "      <td>59</td>\n",
       "      <td>1</td>\n",
       "      <td>49.0</td>\n",
       "      <td>78.7</td>\n",
       "      <td>16.9</td>\n",
       "      <td>6.77</td>\n",
       "    </tr>\n",
       "    <tr>\n",
       "      <th>8</th>\n",
       "      <td>Everton</td>\n",
       "      <td>54</td>\n",
       "      <td>13.1</td>\n",
       "      <td>55</td>\n",
       "      <td>4</td>\n",
       "      <td>51.0</td>\n",
       "      <td>77.3</td>\n",
       "      <td>23.5</td>\n",
       "      <td>6.77</td>\n",
       "    </tr>\n",
       "    <tr>\n",
       "      <th>9</th>\n",
       "      <td>Wolves</td>\n",
       "      <td>47</td>\n",
       "      <td>12.6</td>\n",
       "      <td>72</td>\n",
       "      <td>1</td>\n",
       "      <td>47.4</td>\n",
       "      <td>78.2</td>\n",
       "      <td>21.6</td>\n",
       "      <td>6.75</td>\n",
       "    </tr>\n",
       "    <tr>\n",
       "      <th>10</th>\n",
       "      <td>Newcastle</td>\n",
       "      <td>42</td>\n",
       "      <td>11.7</td>\n",
       "      <td>57</td>\n",
       "      <td>2</td>\n",
       "      <td>42.9</td>\n",
       "      <td>72.9</td>\n",
       "      <td>21.2</td>\n",
       "      <td>6.74</td>\n",
       "    </tr>\n",
       "    <tr>\n",
       "      <th>11</th>\n",
       "      <td>Manchester United</td>\n",
       "      <td>65</td>\n",
       "      <td>13.8</td>\n",
       "      <td>73</td>\n",
       "      <td>4</td>\n",
       "      <td>53.3</td>\n",
       "      <td>82.3</td>\n",
       "      <td>18.3</td>\n",
       "      <td>6.74</td>\n",
       "    </tr>\n",
       "    <tr>\n",
       "      <th>12</th>\n",
       "      <td>Burnley</td>\n",
       "      <td>45</td>\n",
       "      <td>9.5</td>\n",
       "      <td>75</td>\n",
       "      <td>1</td>\n",
       "      <td>17.9</td>\n",
       "      <td>70.3</td>\n",
       "      <td>27.6</td>\n",
       "      <td>6.70</td>\n",
       "    </tr>\n",
       "    <tr>\n",
       "      <th>13</th>\n",
       "      <td>Southampton</td>\n",
       "      <td>45</td>\n",
       "      <td>12.7</td>\n",
       "      <td>71</td>\n",
       "      <td>3</td>\n",
       "      <td>45.4</td>\n",
       "      <td>74.0</td>\n",
       "      <td>20.4</td>\n",
       "      <td>6.68</td>\n",
       "    </tr>\n",
       "    <tr>\n",
       "      <th>14</th>\n",
       "      <td>Watford</td>\n",
       "      <td>52</td>\n",
       "      <td>11.5</td>\n",
       "      <td>77</td>\n",
       "      <td>4</td>\n",
       "      <td>47.4</td>\n",
       "      <td>76.1</td>\n",
       "      <td>20.3</td>\n",
       "      <td>6.68</td>\n",
       "    </tr>\n",
       "    <tr>\n",
       "      <th>15</th>\n",
       "      <td>Bournemouth</td>\n",
       "      <td>56</td>\n",
       "      <td>11.7</td>\n",
       "      <td>60</td>\n",
       "      <td>1</td>\n",
       "      <td>47.7</td>\n",
       "      <td>78.1</td>\n",
       "      <td>18.8</td>\n",
       "      <td>6.68</td>\n",
       "    </tr>\n",
       "    <tr>\n",
       "      <th>16</th>\n",
       "      <td>Cardiff</td>\n",
       "      <td>34</td>\n",
       "      <td>11.0</td>\n",
       "      <td>66</td>\n",
       "      <td>1</td>\n",
       "      <td>39.1</td>\n",
       "      <td>63.9</td>\n",
       "      <td>25.8</td>\n",
       "      <td>6.62</td>\n",
       "    </tr>\n",
       "    <tr>\n",
       "      <th>17</th>\n",
       "      <td>Brighton</td>\n",
       "      <td>35</td>\n",
       "      <td>9.8</td>\n",
       "      <td>60</td>\n",
       "      <td>4</td>\n",
       "      <td>44.1</td>\n",
       "      <td>74.8</td>\n",
       "      <td>22.0</td>\n",
       "      <td>6.61</td>\n",
       "    </tr>\n",
       "    <tr>\n",
       "      <th>18</th>\n",
       "      <td>Fulham</td>\n",
       "      <td>34</td>\n",
       "      <td>11.9</td>\n",
       "      <td>68</td>\n",
       "      <td>2</td>\n",
       "      <td>49.2</td>\n",
       "      <td>80.3</td>\n",
       "      <td>19.7</td>\n",
       "      <td>6.56</td>\n",
       "    </tr>\n",
       "    <tr>\n",
       "      <th>19</th>\n",
       "      <td>Huddersfield</td>\n",
       "      <td>22</td>\n",
       "      <td>10.6</td>\n",
       "      <td>55</td>\n",
       "      <td>4</td>\n",
       "      <td>47.1</td>\n",
       "      <td>75.8</td>\n",
       "      <td>22.6</td>\n",
       "      <td>6.47</td>\n",
       "    </tr>\n",
       "  </tbody>\n",
       "</table>\n",
       "</div>"
      ],
      "text/plain": [
       "                 Team  Goals  Shotspg  Yellow  Red  Possession  Pass  \\\n",
       "0     Manchester City     95     18.0      44    1        25.7  89.0   \n",
       "1           Liverpool     89     15.1      37    2        58.8  84.4   \n",
       "2             Chelsea     63     16.0      49    0        20.3  87.6   \n",
       "3           Tottenham     67     14.1      56    3        56.7  83.2   \n",
       "4             Arsenal     73     12.3      72    2        27.0  83.3   \n",
       "5           Leicester     51     13.6      57    5        50.8  79.2   \n",
       "6      Crystal Palace     51     13.0      58    2        46.6  76.8   \n",
       "7            West Ham     52     11.6      59    1        49.0  78.7   \n",
       "8             Everton     54     13.1      55    4        51.0  77.3   \n",
       "9              Wolves     47     12.6      72    1        47.4  78.2   \n",
       "10          Newcastle     42     11.7      57    2        42.9  72.9   \n",
       "11  Manchester United     65     13.8      73    4        53.3  82.3   \n",
       "12            Burnley     45      9.5      75    1        17.9  70.3   \n",
       "13        Southampton     45     12.7      71    3        45.4  74.0   \n",
       "14            Watford     52     11.5      77    4        47.4  76.1   \n",
       "15        Bournemouth     56     11.7      60    1        47.7  78.1   \n",
       "16            Cardiff     34     11.0      66    1        39.1  63.9   \n",
       "17           Brighton     35      9.8      60    4        44.1  74.8   \n",
       "18             Fulham     34     11.9      68    2        49.2  80.3   \n",
       "19       Huddersfield     22     10.6      55    4        47.1  75.8   \n",
       "\n",
       "    AerialsWon  Rating  \n",
       "0         14.3    7.09  \n",
       "1         16.0    7.01  \n",
       "2         14.0    6.89  \n",
       "3         16.1    6.86  \n",
       "4         14.9    6.79  \n",
       "5         21.5    6.78  \n",
       "6         18.1    6.78  \n",
       "7         16.9    6.77  \n",
       "8         23.5    6.77  \n",
       "9         21.6    6.75  \n",
       "10        21.2    6.74  \n",
       "11        18.3    6.74  \n",
       "12        27.6    6.70  \n",
       "13        20.4    6.68  \n",
       "14        20.3    6.68  \n",
       "15        18.8    6.68  \n",
       "16        25.8    6.62  \n",
       "17        22.0    6.61  \n",
       "18        19.7    6.56  \n",
       "19        22.6    6.47  "
      ]
     },
     "execution_count": 12,
     "metadata": {},
     "output_type": "execute_result"
    }
   ],
   "source": [
    "team_summary_data[0]"
   ]
  },
  {
   "cell_type": "code",
   "execution_count": 13,
   "id": "7761b073",
   "metadata": {},
   "outputs": [
    {
     "name": "stdout",
     "output_type": "stream",
     "text": [
      "(20, 17)\n",
      "(20, 22)\n",
      "(20, 26)\n",
      "(20, 17)\n",
      "(20, 22)\n",
      "(20, 26)\n",
      "(20, 17)\n",
      "(20, 22)\n",
      "(20, 26)\n",
      "(20, 17)\n",
      "(20, 22)\n",
      "(20, 26)\n",
      "(20, 17)\n",
      "(20, 22)\n",
      "(20, 26)\n"
     ]
    }
   ],
   "source": [
    "team_merged_data_list = []\n",
    "\n",
    "for i in range(5):\n",
    "    tmp1 = pd.merge(team_table_data[i], team_summary_data[i], on='Team', how='inner')\n",
    "    print(tmp1.shape)\n",
    "    tmp2 = pd.merge(tmp1, team_def_data[i], on='Team', how='inner')\n",
    "    print(tmp2.shape)\n",
    "    tmp3 = pd.merge(tmp2, team_off_data[i], on='Team', how='inner')\n",
    "    print(tmp3.shape)\n",
    "    \n",
    "    team_merged_data_list.append(tmp3)"
   ]
  },
  {
   "cell_type": "code",
   "execution_count": 14,
   "id": "2159ebd9",
   "metadata": {},
   "outputs": [
    {
     "data": {
      "text/plain": [
       "Index(['Team', 'P', 'W', 'D', 'L', 'GF', 'GA', 'GD', 'Pts', 'Goals', 'Shotspg',\n",
       "       'Yellow', 'Red', 'Possession', 'Pass', 'AerialsWon', 'Rating',\n",
       "       'def_Shotspg', 'def_Tacklespg', 'def_Interceptionspg', 'def_Foulspg',\n",
       "       'def_Offsidespg', 'of_Shotspg', 'of_ShotsOTpg', 'of_Dribblespg',\n",
       "       'of_Fouledpg'],\n",
       "      dtype='object')"
      ]
     },
     "execution_count": 14,
     "metadata": {},
     "output_type": "execute_result"
    }
   ],
   "source": [
    "team_merged_data_list[0].columns"
   ]
  },
  {
   "cell_type": "code",
   "execution_count": 16,
   "id": "0e0383f8",
   "metadata": {},
   "outputs": [],
   "source": [
    "team_merged_data_list[0].to_csv('18_19_EPL_Team.csv')\n",
    "team_merged_data_list[1].to_csv('19_20_EPL_Team.csv')\n",
    "team_merged_data_list[2].to_csv('20_21_EPL_Team.csv')\n",
    "team_merged_data_list[3].to_csv('21_22_EPL_Team.csv')\n",
    "team_merged_data_list[4].to_csv('22_23_EPL_Team.csv')"
   ]
  },
  {
   "cell_type": "code",
   "execution_count": null,
   "id": "ba564ecd",
   "metadata": {},
   "outputs": [],
   "source": []
  },
  {
   "cell_type": "code",
   "execution_count": null,
   "id": "f57d4a69",
   "metadata": {},
   "outputs": [],
   "source": []
  },
  {
   "cell_type": "code",
   "execution_count": null,
   "id": "7336979a",
   "metadata": {},
   "outputs": [],
   "source": []
  },
  {
   "cell_type": "code",
   "execution_count": null,
   "id": "944e0e1c",
   "metadata": {},
   "outputs": [],
   "source": []
  },
  {
   "cell_type": "code",
   "execution_count": null,
   "id": "1fc358b0",
   "metadata": {},
   "outputs": [],
   "source": []
  },
  {
   "cell_type": "code",
   "execution_count": null,
   "id": "de9b772e",
   "metadata": {},
   "outputs": [],
   "source": []
  },
  {
   "cell_type": "code",
   "execution_count": null,
   "id": "3f85c5c9",
   "metadata": {},
   "outputs": [],
   "source": []
  },
  {
   "cell_type": "code",
   "execution_count": null,
   "id": "c54995bf",
   "metadata": {},
   "outputs": [],
   "source": []
  },
  {
   "cell_type": "code",
   "execution_count": null,
   "id": "1f921e0a",
   "metadata": {},
   "outputs": [],
   "source": []
  },
  {
   "cell_type": "code",
   "execution_count": null,
   "id": "16970456",
   "metadata": {},
   "outputs": [],
   "source": []
  },
  {
   "cell_type": "code",
   "execution_count": null,
   "id": "9dc866cd",
   "metadata": {},
   "outputs": [],
   "source": []
  },
  {
   "cell_type": "code",
   "execution_count": null,
   "id": "e006791c",
   "metadata": {},
   "outputs": [],
   "source": []
  },
  {
   "cell_type": "code",
   "execution_count": null,
   "id": "89c65a27",
   "metadata": {},
   "outputs": [],
   "source": []
  },
  {
   "cell_type": "code",
   "execution_count": null,
   "id": "c55b4179",
   "metadata": {},
   "outputs": [],
   "source": []
  }
 ],
 "metadata": {
  "kernelspec": {
   "display_name": "Python 3 (ipykernel)",
   "language": "python",
   "name": "python3"
  },
  "language_info": {
   "codemirror_mode": {
    "name": "ipython",
    "version": 3
   },
   "file_extension": ".py",
   "mimetype": "text/x-python",
   "name": "python",
   "nbconvert_exporter": "python",
   "pygments_lexer": "ipython3",
   "version": "3.11.7"
  }
 },
 "nbformat": 4,
 "nbformat_minor": 5
}
