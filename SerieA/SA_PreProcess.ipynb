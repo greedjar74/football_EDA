{
 "cells": [
  {
   "cell_type": "markdown",
   "id": "dda46e67",
   "metadata": {},
   "source": [
    "# 데이터 병합"
   ]
  },
  {
   "cell_type": "code",
   "execution_count": 1,
   "id": "b58c5525",
   "metadata": {},
   "outputs": [],
   "source": [
    "import pandas as pd\n",
    "import numpy as np\n",
    "import matplotlib.pyplot as plt\n",
    "import seaborn as sns\n",
    "import os"
   ]
  },
  {
   "cell_type": "markdown",
   "id": "bd40aa6e",
   "metadata": {},
   "source": [
    "# player데이터 병합"
   ]
  },
  {
   "cell_type": "code",
   "execution_count": 2,
   "id": "d3185ba3",
   "metadata": {},
   "outputs": [],
   "source": [
    "player_def_path = './SA_Player_Def/'\n",
    "player_off_path = './SA_Player_Off/'\n",
    "player_pass_path = './SA_Player_Pass/'\n",
    "player_summary_path = './SA_Player_Summary/'"
   ]
  },
  {
   "cell_type": "code",
   "execution_count": 3,
   "id": "67056473",
   "metadata": {},
   "outputs": [],
   "source": [
    "player_def_path_list = os.listdir(player_def_path)\n",
    "player_off_path_list = os.listdir(player_off_path)\n",
    "player_pass_path_list = os.listdir(player_pass_path)\n",
    "player_summary_path_list = os.listdir(player_summary_path)"
   ]
  },
  {
   "cell_type": "code",
   "execution_count": 4,
   "id": "e6fa0f24",
   "metadata": {},
   "outputs": [],
   "source": [
    "player_def_path_list.sort()\n",
    "player_off_path_list.sort()\n",
    "player_pass_path_list.sort()\n",
    "player_summary_path_list.sort()"
   ]
  },
  {
   "cell_type": "code",
   "execution_count": 8,
   "id": "8457c1ec",
   "metadata": {},
   "outputs": [
    {
     "data": {
      "text/plain": [
       "['18_19_SA_Player_Stats.csv',\n",
       " '19_20_SA_Player_Stats.csv',\n",
       " '20_21_SA_Player_Stats.csv',\n",
       " '21_22_SA_Player_Stats.csv',\n",
       " '22_23_SA_Player_Stats.csv']"
      ]
     },
     "execution_count": 8,
     "metadata": {},
     "output_type": "execute_result"
    }
   ],
   "source": [
    "player_summary_path_list"
   ]
  },
  {
   "cell_type": "code",
   "execution_count": 9,
   "id": "abc075f3",
   "metadata": {},
   "outputs": [],
   "source": [
    "player_summary_data = []\n",
    "for path in player_summary_path_list:\n",
    "    player_summary_data.append(pd.read_csv(player_summary_path + path))\n",
    "    \n",
    "player_def_data = []\n",
    "for path in player_def_path_list:\n",
    "    player_def_data.append(pd.read_csv(player_def_path + path))\n",
    "\n",
    "player_off_data = []\n",
    "for path in player_off_path_list:\n",
    "    player_off_data.append(pd.read_csv(player_off_path + path))\n",
    "\n",
    "player_pass_data = []\n",
    "for path in player_pass_path_list:\n",
    "    player_pass_data.append(pd.read_csv(player_pass_path + path))"
   ]
  },
  {
   "cell_type": "code",
   "execution_count": 10,
   "id": "9bb5a3e0",
   "metadata": {},
   "outputs": [],
   "source": [
    "for data in player_summary_data:\n",
    "    data.drop('Unnamed: 0', axis=1, inplace=True)\n",
    "    \n",
    "for data in player_def_data:\n",
    "    data.drop('Unnamed: 0', axis=1, inplace=True)\n",
    "    \n",
    "for data in player_off_data:\n",
    "    data.drop('Unnamed: 0', axis=1, inplace=True)\n",
    "    \n",
    "for data in player_pass_data:\n",
    "    data.drop('Unnamed: 0', axis=1, inplace=True)"
   ]
  },
  {
   "cell_type": "code",
   "execution_count": 11,
   "id": "c60394d2",
   "metadata": {
    "scrolled": true
   },
   "outputs": [
    {
     "name": "stdout",
     "output_type": "stream",
     "text": [
      "(297, 23)\n",
      "(301, 31)\n",
      "(309, 36)\n",
      "(310, 23)\n",
      "(314, 31)\n",
      "(322, 36)\n",
      "(344, 23)\n",
      "(348, 31)\n",
      "(356, 36)\n",
      "(336, 23)\n",
      "(336, 31)\n",
      "(336, 36)\n",
      "(330, 23)\n",
      "(330, 31)\n",
      "(330, 36)\n"
     ]
    }
   ],
   "source": [
    "player_merged_data_list = []\n",
    "\n",
    "for i in range(5):\n",
    "    tmp1 = pd.merge(player_summary_data[i], player_def_data[i], on='Name', how='inner')\n",
    "    print(tmp1.shape)\n",
    "    tmp2 = pd.merge(tmp1, player_off_data[i], on='Name', how='inner')\n",
    "    print(tmp2.shape)\n",
    "    tmp3 = pd.merge(tmp2, player_pass_data[i], on='Name', how='inner')\n",
    "    print(tmp3.shape)\n",
    "    \n",
    "    player_merged_data_list.append(tmp3)"
   ]
  },
  {
   "cell_type": "code",
   "execution_count": 12,
   "id": "4893d1eb",
   "metadata": {},
   "outputs": [
    {
     "data": {
      "text/plain": [
       "Index(['Name', 'Team', 'Age', 'Position', 'Apps', 'Mins', 'Goals_x',\n",
       "       'Assists_x', 'Yellow', 'Red', 'SpG_x', 'PS', 'Aerialswon', 'MotM',\n",
       "       'Rating', 'Tackles', 'Inter', 'Fouls', 'Offsides', 'Clear', 'Drb_x',\n",
       "       'Blocks', 'OwnG', 'Goals_y', 'Assists_y', 'SpG_y', 'Drb_y', 'Fouled',\n",
       "       'Off', 'Disp', 'UnsTch', 'AvgP', 'PSp', 'Crosses', 'LonB', 'ThrB'],\n",
       "      dtype='object')"
      ]
     },
     "execution_count": 12,
     "metadata": {},
     "output_type": "execute_result"
    }
   ],
   "source": [
    "player_merged_data_list[0].columns"
   ]
  },
  {
   "cell_type": "code",
   "execution_count": 13,
   "id": "33c61ba0",
   "metadata": {},
   "outputs": [],
   "source": [
    "for player_merged_data in player_merged_data_list:\n",
    "    player_merged_data.drop(['Goals_y', 'Assists_y', 'SpG_y'], axis=1, inplace=True)"
   ]
  },
  {
   "cell_type": "code",
   "execution_count": 15,
   "id": "23aba636",
   "metadata": {},
   "outputs": [],
   "source": [
    "for player_merged_data in player_merged_data_list:\n",
    "    player_merged_data.columns = ['Name', 'Team', 'Age', 'Position', 'Apps', 'Mins', 'Goals',\n",
    "       'Assists', 'Yellow', 'Red', 'SpG', 'PS', 'Aerialswon', 'MotM',\n",
    "       'Rating', 'Tackles', 'Inter', 'Fouls', 'Offsides', 'Clear', 'Drb_def',\n",
    "       'Blocks', 'OwnG', 'Drb_off', 'Fouled', 'Off', 'Disp', 'UnsTch', 'AvgP',\n",
    "       'PSp', 'Crosses', 'LonB', 'ThrB']"
   ]
  },
  {
   "cell_type": "code",
   "execution_count": 16,
   "id": "f215932e",
   "metadata": {},
   "outputs": [],
   "source": [
    "player_merged_data_list[0].to_csv('18_19_SA_Player.csv')\n",
    "player_merged_data_list[1].to_csv('19_20_SA_Player.csv')\n",
    "player_merged_data_list[2].to_csv('20_21_SA_Player.csv')\n",
    "player_merged_data_list[3].to_csv('21_22_SA_Player.csv')\n",
    "player_merged_data_list[4].to_csv('22_23_SA_Player.csv')"
   ]
  },
  {
   "cell_type": "markdown",
   "id": "bde35bef",
   "metadata": {},
   "source": [
    "# team 데이터 병합"
   ]
  },
  {
   "cell_type": "code",
   "execution_count": 17,
   "id": "91a7f7a6",
   "metadata": {},
   "outputs": [],
   "source": [
    "team_def_path = './SA_Team_Def/'\n",
    "team_off_path = './SA_Team_Off/'\n",
    "team_table_path = './SA_Team_Table/'\n",
    "team_summary_path = './SA_Team_Summary/'"
   ]
  },
  {
   "cell_type": "code",
   "execution_count": 18,
   "id": "ff93d790",
   "metadata": {},
   "outputs": [],
   "source": [
    "team_def_path_list = os.listdir(team_def_path)\n",
    "team_off_path_list = os.listdir(team_off_path)\n",
    "team_table_path_list = os.listdir(team_table_path)\n",
    "team_summary_path_list = os.listdir(team_summary_path)"
   ]
  },
  {
   "cell_type": "code",
   "execution_count": 19,
   "id": "4686ec2c",
   "metadata": {},
   "outputs": [],
   "source": [
    "team_def_path_list.sort()\n",
    "team_off_path_list.sort()\n",
    "team_table_path_list.sort()\n",
    "team_summary_path_list.sort()"
   ]
  },
  {
   "cell_type": "code",
   "execution_count": 20,
   "id": "e59d46bb",
   "metadata": {},
   "outputs": [
    {
     "data": {
      "text/plain": [
       "['18_19_SA_Team_Stats_defensive.csv',\n",
       " '19_20_SA_Team_Stats_defensive.csv',\n",
       " '20_21_SA_Team_Stats_defensive.csv',\n",
       " '21_22_SA_Team_Stats_defensive.csv',\n",
       " '22_23_SA_Team_Stats_defensive.csv']"
      ]
     },
     "execution_count": 20,
     "metadata": {},
     "output_type": "execute_result"
    }
   ],
   "source": [
    "team_def_path_list"
   ]
  },
  {
   "cell_type": "code",
   "execution_count": 21,
   "id": "860b79cb",
   "metadata": {},
   "outputs": [],
   "source": [
    "team_summary_data = []\n",
    "for path in team_summary_path_list:\n",
    "    team_summary_data.append(pd.read_csv(team_summary_path + path))\n",
    "    \n",
    "team_def_data = []\n",
    "for path in team_def_path_list:\n",
    "    team_def_data.append(pd.read_csv(team_def_path + path))\n",
    "\n",
    "team_off_data = []\n",
    "for path in team_off_path_list:\n",
    "    team_off_data.append(pd.read_csv(team_off_path + path))\n",
    "\n",
    "team_table_data = []\n",
    "for path in team_table_path_list:\n",
    "    team_table_data.append(pd.read_csv(team_table_path + path))"
   ]
  },
  {
   "cell_type": "code",
   "execution_count": 22,
   "id": "45721584",
   "metadata": {},
   "outputs": [],
   "source": [
    "for data in team_summary_data:\n",
    "    data.drop('Unnamed: 0', axis=1, inplace=True)\n",
    "    \n",
    "for data in team_def_data:\n",
    "    data.drop('Unnamed: 0', axis=1, inplace=True)\n",
    "    \n",
    "for data in team_off_data:\n",
    "    data.drop('Unnamed: 0', axis=1, inplace=True)\n",
    "    \n",
    "for data in team_table_data:\n",
    "    data.drop('Unnamed: 0', axis=1, inplace=True)"
   ]
  },
  {
   "cell_type": "code",
   "execution_count": 23,
   "id": "8a729d33",
   "metadata": {},
   "outputs": [
    {
     "name": "stdout",
     "output_type": "stream",
     "text": [
      "(20, 14)\n",
      "(20, 18)\n",
      "(20, 26)\n",
      "(20, 14)\n",
      "(20, 18)\n",
      "(20, 26)\n",
      "(20, 14)\n",
      "(20, 18)\n",
      "(20, 26)\n",
      "(20, 14)\n",
      "(20, 18)\n",
      "(20, 26)\n",
      "(20, 14)\n",
      "(20, 18)\n",
      "(20, 26)\n"
     ]
    }
   ],
   "source": [
    "team_merged_data_list = []\n",
    "\n",
    "for i in range(5):\n",
    "    tmp1 = pd.merge(team_summary_data[i], team_def_data[i], on='Team', how='inner')\n",
    "    print(tmp1.shape)\n",
    "    tmp2 = pd.merge(tmp1, team_off_data[i], on='Team', how='inner')\n",
    "    print(tmp2.shape)\n",
    "    tmp3 = pd.merge(tmp2, team_table_data[i], on='Team', how='inner')\n",
    "    print(tmp3.shape)\n",
    "    \n",
    "    team_merged_data_list.append(tmp3)"
   ]
  },
  {
   "cell_type": "code",
   "execution_count": 24,
   "id": "2159ebd9",
   "metadata": {},
   "outputs": [
    {
     "data": {
      "text/plain": [
       "Index(['Team', 'Goals', 'Shotspg', 'Yellow', 'Red', 'Possession', 'Pass',\n",
       "       'AerialsWon', 'Rating', 'def_Shotspg', 'def_Tacklespg',\n",
       "       'def_Interceptionspg', 'def_Foulspg', 'def_Offsidespg', 'of_Shotspg',\n",
       "       'of_ShotsOTpg', 'of_Dribblespg', 'of_Fouledpg', 'P', 'W', 'D', 'L',\n",
       "       'GF', 'GA', 'GD', 'Pts'],\n",
       "      dtype='object')"
      ]
     },
     "execution_count": 24,
     "metadata": {},
     "output_type": "execute_result"
    }
   ],
   "source": [
    "team_merged_data_list[0].columns"
   ]
  },
  {
   "cell_type": "code",
   "execution_count": 25,
   "id": "0e0383f8",
   "metadata": {},
   "outputs": [],
   "source": [
    "team_merged_data_list[0].to_csv('18_19_SA_Team.csv')\n",
    "team_merged_data_list[1].to_csv('19_20_SA_Team.csv')\n",
    "team_merged_data_list[2].to_csv('20_21_SA_Team.csv')\n",
    "team_merged_data_list[3].to_csv('21_22_SA_Team.csv')\n",
    "team_merged_data_list[4].to_csv('22_23_SA_Team.csv')"
   ]
  },
  {
   "cell_type": "code",
   "execution_count": null,
   "id": "ba564ecd",
   "metadata": {},
   "outputs": [],
   "source": []
  },
  {
   "cell_type": "code",
   "execution_count": null,
   "id": "f57d4a69",
   "metadata": {},
   "outputs": [],
   "source": []
  },
  {
   "cell_type": "code",
   "execution_count": null,
   "id": "7336979a",
   "metadata": {},
   "outputs": [],
   "source": []
  },
  {
   "cell_type": "code",
   "execution_count": null,
   "id": "944e0e1c",
   "metadata": {},
   "outputs": [],
   "source": []
  },
  {
   "cell_type": "code",
   "execution_count": null,
   "id": "1fc358b0",
   "metadata": {},
   "outputs": [],
   "source": []
  },
  {
   "cell_type": "code",
   "execution_count": null,
   "id": "de9b772e",
   "metadata": {},
   "outputs": [],
   "source": []
  },
  {
   "cell_type": "code",
   "execution_count": null,
   "id": "3f85c5c9",
   "metadata": {},
   "outputs": [],
   "source": []
  },
  {
   "cell_type": "code",
   "execution_count": null,
   "id": "c54995bf",
   "metadata": {},
   "outputs": [],
   "source": []
  },
  {
   "cell_type": "code",
   "execution_count": null,
   "id": "1f921e0a",
   "metadata": {},
   "outputs": [],
   "source": []
  },
  {
   "cell_type": "code",
   "execution_count": null,
   "id": "16970456",
   "metadata": {},
   "outputs": [],
   "source": []
  },
  {
   "cell_type": "code",
   "execution_count": null,
   "id": "9dc866cd",
   "metadata": {},
   "outputs": [],
   "source": []
  },
  {
   "cell_type": "code",
   "execution_count": null,
   "id": "e006791c",
   "metadata": {},
   "outputs": [],
   "source": []
  },
  {
   "cell_type": "code",
   "execution_count": null,
   "id": "89c65a27",
   "metadata": {},
   "outputs": [],
   "source": []
  },
  {
   "cell_type": "code",
   "execution_count": null,
   "id": "c55b4179",
   "metadata": {},
   "outputs": [],
   "source": []
  }
 ],
 "metadata": {
  "kernelspec": {
   "display_name": "Python 3 (ipykernel)",
   "language": "python",
   "name": "python3"
  },
  "language_info": {
   "codemirror_mode": {
    "name": "ipython",
    "version": 3
   },
   "file_extension": ".py",
   "mimetype": "text/x-python",
   "name": "python",
   "nbconvert_exporter": "python",
   "pygments_lexer": "ipython3",
   "version": "3.11.7"
  }
 },
 "nbformat": 4,
 "nbformat_minor": 5
}
