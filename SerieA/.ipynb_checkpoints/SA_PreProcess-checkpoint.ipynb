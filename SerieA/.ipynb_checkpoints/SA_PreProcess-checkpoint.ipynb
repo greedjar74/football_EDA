{
 "cells": [
  {
   "cell_type": "markdown",
   "id": "dda46e67",
   "metadata": {},
   "source": [
    "# 데이터 병합"
   ]
  },
  {
   "cell_type": "code",
   "execution_count": 43,
   "id": "b58c5525",
   "metadata": {},
   "outputs": [],
   "source": [
    "import pandas as pd\n",
    "import numpy as np\n",
    "import matplotlib.pyplot as plt\n",
    "import seaborn as sns\n",
    "import os"
   ]
  },
  {
   "cell_type": "markdown",
   "id": "bd40aa6e",
   "metadata": {},
   "source": [
    "# player데이터 병합"
   ]
  },
  {
   "cell_type": "code",
   "execution_count": 2,
   "id": "d3185ba3",
   "metadata": {},
   "outputs": [],
   "source": [
    "player_def_path = './BL_Player_Def/'\n",
    "player_off_path = './BL_Player_Off/'\n",
    "player_pass_path = './BL_Player_Pass/'\n",
    "player_summary_path = './BL_Player_Summary/'"
   ]
  },
  {
   "cell_type": "code",
   "execution_count": 20,
   "id": "67056473",
   "metadata": {},
   "outputs": [],
   "source": [
    "player_def_path_list = os.listdir(player_def_path)\n",
    "player_off_path_list = os.listdir(player_off_path)\n",
    "player_pass_path_list = os.listdir(player_pass_path)\n",
    "player_summary_path_list = os.listdir(player_summary_path)"
   ]
  },
  {
   "cell_type": "code",
   "execution_count": 24,
   "id": "e6fa0f24",
   "metadata": {},
   "outputs": [],
   "source": [
    "player_def_path_list.sort()\n",
    "player_off_path_list.sort()\n",
    "player_pass_path_list.sort()\n",
    "player_summary_path_list.sort()"
   ]
  },
  {
   "cell_type": "code",
   "execution_count": 41,
   "id": "8457c1ec",
   "metadata": {},
   "outputs": [
    {
     "data": {
      "text/plain": [
       "['18_19_BL_Player_Stats_def.csv',\n",
       " '19_20_BL_Player_Stats_def.csv',\n",
       " '20_21_BL_Player_Stats_def.csv',\n",
       " '21_22_BL_Player_Stats_def.csv',\n",
       " '22_23_BL_Player_Stats_def.csv']"
      ]
     },
     "execution_count": 41,
     "metadata": {},
     "output_type": "execute_result"
    }
   ],
   "source": [
    "player_def_path_list"
   ]
  },
  {
   "cell_type": "code",
   "execution_count": 30,
   "id": "abc075f3",
   "metadata": {},
   "outputs": [],
   "source": [
    "player_summary_data = []\n",
    "for path in player_summary_path_list:\n",
    "    player_summary_data.append(pd.read_csv(player_summary_path + path))\n",
    "    \n",
    "player_def_data = []\n",
    "for path in player_def_path_list:\n",
    "    player_def_data.append(pd.read_csv(player_def_path + path))\n",
    "\n",
    "player_off_data = []\n",
    "for path in player_off_path_list:\n",
    "    player_off_data.append(pd.read_csv(player_off_path + path))\n",
    "\n",
    "player_pass_data = []\n",
    "for path in player_pass_path_list:\n",
    "    player_pass_data.append(pd.read_csv(player_pass_path + path))"
   ]
  },
  {
   "cell_type": "code",
   "execution_count": 32,
   "id": "9bb5a3e0",
   "metadata": {},
   "outputs": [],
   "source": [
    "for data in player_summary_data:\n",
    "    data.drop('Unnamed: 0', axis=1, inplace=True)\n",
    "    \n",
    "for data in player_def_data:\n",
    "    data.drop('Unnamed: 0', axis=1, inplace=True)\n",
    "    \n",
    "for data in player_off_data:\n",
    "    data.drop('Unnamed: 0', axis=1, inplace=True)\n",
    "    \n",
    "for data in player_pass_data:\n",
    "    data.drop('Unnamed: 0', axis=1, inplace=True)"
   ]
  },
  {
   "cell_type": "code",
   "execution_count": 33,
   "id": "c60394d2",
   "metadata": {},
   "outputs": [
    {
     "name": "stdout",
     "output_type": "stream",
     "text": [
      "(270, 23)\n",
      "(270, 31)\n",
      "(270, 36)\n",
      "(263, 23)\n",
      "(263, 31)\n",
      "(263, 36)\n",
      "(285, 23)\n",
      "(285, 31)\n",
      "(285, 36)\n",
      "(292, 23)\n",
      "(292, 31)\n",
      "(292, 36)\n",
      "(286, 23)\n",
      "(286, 31)\n",
      "(286, 36)\n"
     ]
    }
   ],
   "source": [
    "player_merged_data_list = []\n",
    "\n",
    "for i in range(5):\n",
    "    tmp1 = pd.merge(player_summary_data[i], player_def_data[i], on='Name', how='inner')\n",
    "    print(tmp1.shape)\n",
    "    tmp2 = pd.merge(tmp1, player_off_data[i], on='Name', how='inner')\n",
    "    print(tmp2.shape)\n",
    "    tmp3 = pd.merge(tmp2, player_pass_data[i], on='Name', how='inner')\n",
    "    print(tmp3.shape)\n",
    "    \n",
    "    player_merged_data_list.append(tmp3)"
   ]
  },
  {
   "cell_type": "code",
   "execution_count": 34,
   "id": "4893d1eb",
   "metadata": {},
   "outputs": [
    {
     "data": {
      "text/plain": [
       "Index(['Name', 'Team', 'Age', 'Position', 'Apps', 'Mins', 'Goals_x',\n",
       "       'Assists_x', 'Yellow', 'Red', 'SpG_x', 'PS', 'Aerialswon', 'MotM',\n",
       "       'Rating', 'Tackles', 'Inter', 'Fouls', 'Offsides', 'Clear', 'Drb_x',\n",
       "       'Blocks', 'OwnG', 'Goals_y', 'Assists_y', 'SpG_y', 'Drb_y', 'Fouled',\n",
       "       'Off', 'Disp', 'UnsTch', 'AvgP', 'PSp', 'Crosses', 'LonB', 'ThrB'],\n",
       "      dtype='object')"
      ]
     },
     "execution_count": 34,
     "metadata": {},
     "output_type": "execute_result"
    }
   ],
   "source": [
    "player_merged_data_list[0].columns"
   ]
  },
  {
   "cell_type": "code",
   "execution_count": 37,
   "id": "33c61ba0",
   "metadata": {},
   "outputs": [],
   "source": [
    "for player_merged_data in player_merged_data_list:\n",
    "    player_merged_data.drop(['Goals_y', 'Assists_y', 'SpG_y'], axis=1, inplace=True)"
   ]
  },
  {
   "cell_type": "code",
   "execution_count": 39,
   "id": "23aba636",
   "metadata": {},
   "outputs": [],
   "source": [
    "forplayer_ merged_data in player_merged_data_list:\n",
    "    player_merged_data.columns = ['Name', 'Team', 'Age', 'Position', 'Apps', 'Mins', 'Goals',\n",
    "       'Assists', 'Yellow', 'Red', 'SpG', 'PS', 'Aerialswon', 'MotM',\n",
    "       'Rating', 'Tackles', 'Inter', 'Fouls', 'Offsides', 'Clear', 'Drb_def',\n",
    "       'Blocks', 'OwnG', 'Drb_off', 'Fouled', 'Off', 'Disp', 'UnsTch', 'AvgP',\n",
    "       'PSp', 'Crosses', 'LonB', 'ThrB']"
   ]
  },
  {
   "cell_type": "code",
   "execution_count": 42,
   "id": "f215932e",
   "metadata": {},
   "outputs": [],
   "source": [
    "player_merged_data_list[0].to_csv('18_19_BL_Player.csv')\n",
    "player_merged_data_list[1].to_csv('19_20_BL_Player.csv')\n",
    "player_merged_data_list[2].to_csv('20_21_BL_Player.csv')\n",
    "player_merged_data_list[3].to_csv('21_22_BL_Player.csv')\n",
    "player_merged_data_list[4].to_csv('22_23_BL_Player.csv')"
   ]
  },
  {
   "cell_type": "markdown",
   "id": "bde35bef",
   "metadata": {},
   "source": [
    "# team 데이터 병합"
   ]
  },
  {
   "cell_type": "code",
   "execution_count": 118,
   "id": "91a7f7a6",
   "metadata": {},
   "outputs": [],
   "source": [
    "team_def_path = './BL_Team_Def/'\n",
    "team_off_path = './BL_Team_Off/'\n",
    "team_table_path = './BL_Team_Table/'\n",
    "team_summary_path = './BL_Team_Summary/'"
   ]
  },
  {
   "cell_type": "code",
   "execution_count": 119,
   "id": "ff93d790",
   "metadata": {},
   "outputs": [],
   "source": [
    "team_def_path_list = os.listdir(team_def_path)\n",
    "team_off_path_list = os.listdir(team_off_path)\n",
    "team_table_path_list = os.listdir(team_table_path)\n",
    "team_summary_path_list = os.listdir(team_summary_path)"
   ]
  },
  {
   "cell_type": "code",
   "execution_count": 120,
   "id": "4686ec2c",
   "metadata": {},
   "outputs": [],
   "source": [
    "team_def_path_list.sort()\n",
    "team_off_path_list.sort()\n",
    "team_table_path_list.sort()\n",
    "team_summary_path_list.sort()"
   ]
  },
  {
   "cell_type": "code",
   "execution_count": 121,
   "id": "e59d46bb",
   "metadata": {},
   "outputs": [
    {
     "data": {
      "text/plain": [
       "['18_19_BL_Team_Stats_defensive.csv',\n",
       " '19_20_BL_Team_Stats_defensive.csv',\n",
       " '20_21_BL_Team_Stats_defensive.csv',\n",
       " '21_22_BL_Team_Stats_defensive.csv',\n",
       " '22_23_BL_Team_Stats_defensive.csv']"
      ]
     },
     "execution_count": 121,
     "metadata": {},
     "output_type": "execute_result"
    }
   ],
   "source": [
    "team_def_path_list"
   ]
  },
  {
   "cell_type": "code",
   "execution_count": 122,
   "id": "860b79cb",
   "metadata": {},
   "outputs": [],
   "source": [
    "team_summary_data = []\n",
    "for path in team_summary_path_list:\n",
    "    team_summary_data.append(pd.read_csv(team_summary_path + path))\n",
    "    \n",
    "team_def_data = []\n",
    "for path in team_def_path_list:\n",
    "    team_def_data.append(pd.read_csv(team_def_path + path))\n",
    "\n",
    "team_off_data = []\n",
    "for path in team_off_path_list:\n",
    "    team_off_data.append(pd.read_csv(team_off_path + path))\n",
    "\n",
    "team_table_data = []\n",
    "for path in team_table_path_list:\n",
    "    team_table_data.append(pd.read_csv(team_table_path + path))"
   ]
  },
  {
   "cell_type": "code",
   "execution_count": 123,
   "id": "45721584",
   "metadata": {},
   "outputs": [],
   "source": [
    "for data in team_summary_data:\n",
    "    data.drop('Unnamed: 0', axis=1, inplace=True)\n",
    "    \n",
    "for data in team_def_data:\n",
    "    data.drop('Unnamed: 0', axis=1, inplace=True)\n",
    "    \n",
    "for data in team_off_data:\n",
    "    data.drop('Unnamed: 0', axis=1, inplace=True)\n",
    "    \n",
    "for data in team_table_data:\n",
    "    data.drop('Unnamed: 0', axis=1, inplace=True)"
   ]
  },
  {
   "cell_type": "code",
   "execution_count": 124,
   "id": "8a729d33",
   "metadata": {},
   "outputs": [
    {
     "name": "stdout",
     "output_type": "stream",
     "text": [
      "(18, 14)\n",
      "(18, 18)\n",
      "(17, 26)\n",
      "(18, 14)\n",
      "(18, 18)\n",
      "(17, 26)\n",
      "(18, 14)\n",
      "(18, 18)\n",
      "(17, 26)\n",
      "(18, 14)\n",
      "(18, 18)\n",
      "(17, 26)\n",
      "(18, 14)\n",
      "(18, 18)\n",
      "(17, 26)\n"
     ]
    }
   ],
   "source": [
    "team_merged_data_list = []\n",
    "\n",
    "for i in range(5):\n",
    "    tmp1 = pd.merge(team_summary_data[i], team_def_data[i], on='Team', how='inner')\n",
    "    print(tmp1.shape)\n",
    "    tmp2 = pd.merge(tmp1, team_off_data[i], on='Team', how='inner')\n",
    "    print(tmp2.shape)\n",
    "    tmp3 = pd.merge(tmp2, team_table_data[i], on='Team', how='inner')\n",
    "    print(tmp3.shape)\n",
    "    \n",
    "    team_merged_data_list.append(tmp3)"
   ]
  },
  {
   "cell_type": "code",
   "execution_count": 125,
   "id": "957af71c",
   "metadata": {},
   "outputs": [],
   "source": [
    "for data in team_def_data:\n",
    "    team_li = data['Team'].unique().tolist()\n",
    "    for i in range(len(team_li)):\n",
    "        if team_li[i] == 'Borussia M':\n",
    "            team_li[i] = 'Borussia M.Gladbach'\n",
    "            \n",
    "    tmp = pd.DataFrame(team_li, columns=['Team'])\n",
    "    data['Team'] = tmp\n",
    "\n",
    "for data in team_off_data:\n",
    "    team_li = data['Team'].unique().tolist()\n",
    "    for i in range(len(team_li)):\n",
    "        if team_li[i] == 'Borussia M':\n",
    "            team_li[i] = 'Borussia M.Gladbach'\n",
    "            \n",
    "    tmp = pd.DataFrame(team_li, columns=['Team'])\n",
    "    data['Team'] = tmp\n",
    "\n",
    "for data in team_pass_data:\n",
    "    team_li = data['Team'].unique().tolist()\n",
    "    for i in range(len(team_li)):\n",
    "        if team_li[i] == 'Borussia M':\n",
    "            team_li[i] = 'Borussia M.Gladbach'\n",
    "            \n",
    "    tmp = pd.DataFrame(team_li, columns=['Team'])\n",
    "    data['Team'] = tmp"
   ]
  },
  {
   "cell_type": "code",
   "execution_count": 126,
   "id": "24849658",
   "metadata": {},
   "outputs": [
    {
     "data": {
      "text/html": [
       "<div>\n",
       "<style scoped>\n",
       "    .dataframe tbody tr th:only-of-type {\n",
       "        vertical-align: middle;\n",
       "    }\n",
       "\n",
       "    .dataframe tbody tr th {\n",
       "        vertical-align: top;\n",
       "    }\n",
       "\n",
       "    .dataframe thead th {\n",
       "        text-align: right;\n",
       "    }\n",
       "</style>\n",
       "<table border=\"1\" class=\"dataframe\">\n",
       "  <thead>\n",
       "    <tr style=\"text-align: right;\">\n",
       "      <th></th>\n",
       "      <th>Team</th>\n",
       "      <th>Goals</th>\n",
       "      <th>Shotspg</th>\n",
       "      <th>Yellow</th>\n",
       "      <th>Red</th>\n",
       "      <th>Possession</th>\n",
       "      <th>Pass</th>\n",
       "      <th>AerialsWon</th>\n",
       "      <th>Rating</th>\n",
       "    </tr>\n",
       "  </thead>\n",
       "  <tbody>\n",
       "    <tr>\n",
       "      <th>0</th>\n",
       "      <td>Bayern Munich</td>\n",
       "      <td>88</td>\n",
       "      <td>18.7</td>\n",
       "      <td>40</td>\n",
       "      <td>2</td>\n",
       "      <td>62.2</td>\n",
       "      <td>87.5</td>\n",
       "      <td>15.7</td>\n",
       "      <td>7.03</td>\n",
       "    </tr>\n",
       "    <tr>\n",
       "      <th>1</th>\n",
       "      <td>RB Leipzig</td>\n",
       "      <td>63</td>\n",
       "      <td>14.6</td>\n",
       "      <td>61</td>\n",
       "      <td>1</td>\n",
       "      <td>49.5</td>\n",
       "      <td>75.3</td>\n",
       "      <td>22.4</td>\n",
       "      <td>6.96</td>\n",
       "    </tr>\n",
       "    <tr>\n",
       "      <th>2</th>\n",
       "      <td>Borussia Dortmund</td>\n",
       "      <td>81</td>\n",
       "      <td>13.2</td>\n",
       "      <td>40</td>\n",
       "      <td>3</td>\n",
       "      <td>56.8</td>\n",
       "      <td>86.0</td>\n",
       "      <td>14.0</td>\n",
       "      <td>6.93</td>\n",
       "    </tr>\n",
       "    <tr>\n",
       "      <th>3</th>\n",
       "      <td>Bayer Leverkusen</td>\n",
       "      <td>69</td>\n",
       "      <td>15.2</td>\n",
       "      <td>50</td>\n",
       "      <td>1</td>\n",
       "      <td>57.7</td>\n",
       "      <td>84.4</td>\n",
       "      <td>16.6</td>\n",
       "      <td>6.88</td>\n",
       "    </tr>\n",
       "    <tr>\n",
       "      <th>4</th>\n",
       "      <td>Hoffenheim</td>\n",
       "      <td>70</td>\n",
       "      <td>18.0</td>\n",
       "      <td>65</td>\n",
       "      <td>2</td>\n",
       "      <td>52.8</td>\n",
       "      <td>82.0</td>\n",
       "      <td>15.9</td>\n",
       "      <td>6.87</td>\n",
       "    </tr>\n",
       "    <tr>\n",
       "      <th>5</th>\n",
       "      <td>Eintracht Frankfurt</td>\n",
       "      <td>60</td>\n",
       "      <td>12.4</td>\n",
       "      <td>56</td>\n",
       "      <td>3</td>\n",
       "      <td>47.6</td>\n",
       "      <td>73.1</td>\n",
       "      <td>24.6</td>\n",
       "      <td>6.83</td>\n",
       "    </tr>\n",
       "    <tr>\n",
       "      <th>6</th>\n",
       "      <td>Wolfsburg</td>\n",
       "      <td>62</td>\n",
       "      <td>12.5</td>\n",
       "      <td>62</td>\n",
       "      <td>0</td>\n",
       "      <td>52.5</td>\n",
       "      <td>78.6</td>\n",
       "      <td>18.9</td>\n",
       "      <td>6.81</td>\n",
       "    </tr>\n",
       "    <tr>\n",
       "      <th>7</th>\n",
       "      <td>Borussia M</td>\n",
       "      <td>55</td>\n",
       "      <td>13.5</td>\n",
       "      <td>43</td>\n",
       "      <td>0</td>\n",
       "      <td>52.3</td>\n",
       "      <td>84.3</td>\n",
       "      <td>13.2</td>\n",
       "      <td>6.76</td>\n",
       "    </tr>\n",
       "    <tr>\n",
       "      <th>8</th>\n",
       "      <td>Werder Bremen</td>\n",
       "      <td>58</td>\n",
       "      <td>13.9</td>\n",
       "      <td>58</td>\n",
       "      <td>3</td>\n",
       "      <td>51.2</td>\n",
       "      <td>80.0</td>\n",
       "      <td>18.1</td>\n",
       "      <td>6.75</td>\n",
       "    </tr>\n",
       "    <tr>\n",
       "      <th>9</th>\n",
       "      <td>Hertha Berlin</td>\n",
       "      <td>49</td>\n",
       "      <td>11.9</td>\n",
       "      <td>61</td>\n",
       "      <td>5</td>\n",
       "      <td>48.6</td>\n",
       "      <td>78.4</td>\n",
       "      <td>20.9</td>\n",
       "      <td>6.74</td>\n",
       "    </tr>\n",
       "    <tr>\n",
       "      <th>10</th>\n",
       "      <td>Mainz 05</td>\n",
       "      <td>46</td>\n",
       "      <td>14.6</td>\n",
       "      <td>56</td>\n",
       "      <td>0</td>\n",
       "      <td>46.9</td>\n",
       "      <td>77.1</td>\n",
       "      <td>19.6</td>\n",
       "      <td>6.70</td>\n",
       "    </tr>\n",
       "    <tr>\n",
       "      <th>11</th>\n",
       "      <td>Fortuna Duesseldorf</td>\n",
       "      <td>49</td>\n",
       "      <td>12.3</td>\n",
       "      <td>67</td>\n",
       "      <td>1</td>\n",
       "      <td>44.4</td>\n",
       "      <td>77.4</td>\n",
       "      <td>18.7</td>\n",
       "      <td>6.67</td>\n",
       "    </tr>\n",
       "    <tr>\n",
       "      <th>12</th>\n",
       "      <td>Schalke 04</td>\n",
       "      <td>37</td>\n",
       "      <td>12.2</td>\n",
       "      <td>71</td>\n",
       "      <td>5</td>\n",
       "      <td>46.9</td>\n",
       "      <td>76.3</td>\n",
       "      <td>18.0</td>\n",
       "      <td>6.65</td>\n",
       "    </tr>\n",
       "    <tr>\n",
       "      <th>13</th>\n",
       "      <td>Augsburg</td>\n",
       "      <td>51</td>\n",
       "      <td>13.4</td>\n",
       "      <td>55</td>\n",
       "      <td>1</td>\n",
       "      <td>46.8</td>\n",
       "      <td>74.5</td>\n",
       "      <td>20.0</td>\n",
       "      <td>6.65</td>\n",
       "    </tr>\n",
       "    <tr>\n",
       "      <th>14</th>\n",
       "      <td>Freiburg</td>\n",
       "      <td>46</td>\n",
       "      <td>12.5</td>\n",
       "      <td>51</td>\n",
       "      <td>3</td>\n",
       "      <td>45.4</td>\n",
       "      <td>78.2</td>\n",
       "      <td>16.9</td>\n",
       "      <td>6.64</td>\n",
       "    </tr>\n",
       "    <tr>\n",
       "      <th>15</th>\n",
       "      <td>VfB Stuttgart</td>\n",
       "      <td>32</td>\n",
       "      <td>12.0</td>\n",
       "      <td>62</td>\n",
       "      <td>5</td>\n",
       "      <td>46.8</td>\n",
       "      <td>75.7</td>\n",
       "      <td>21.9</td>\n",
       "      <td>6.57</td>\n",
       "    </tr>\n",
       "    <tr>\n",
       "      <th>16</th>\n",
       "      <td>Hannover 96</td>\n",
       "      <td>31</td>\n",
       "      <td>11.3</td>\n",
       "      <td>59</td>\n",
       "      <td>4</td>\n",
       "      <td>47.4</td>\n",
       "      <td>76.8</td>\n",
       "      <td>18.6</td>\n",
       "      <td>6.57</td>\n",
       "    </tr>\n",
       "    <tr>\n",
       "      <th>17</th>\n",
       "      <td>Nuernberg</td>\n",
       "      <td>26</td>\n",
       "      <td>10.6</td>\n",
       "      <td>57</td>\n",
       "      <td>4</td>\n",
       "      <td>44.1</td>\n",
       "      <td>76.0</td>\n",
       "      <td>19.0</td>\n",
       "      <td>6.49</td>\n",
       "    </tr>\n",
       "  </tbody>\n",
       "</table>\n",
       "</div>"
      ],
      "text/plain": [
       "                   Team  Goals  Shotspg  Yellow  Red  Possession  Pass  \\\n",
       "0         Bayern Munich     88     18.7      40    2        62.2  87.5   \n",
       "1            RB Leipzig     63     14.6      61    1        49.5  75.3   \n",
       "2     Borussia Dortmund     81     13.2      40    3        56.8  86.0   \n",
       "3      Bayer Leverkusen     69     15.2      50    1        57.7  84.4   \n",
       "4            Hoffenheim     70     18.0      65    2        52.8  82.0   \n",
       "5   Eintracht Frankfurt     60     12.4      56    3        47.6  73.1   \n",
       "6             Wolfsburg     62     12.5      62    0        52.5  78.6   \n",
       "7            Borussia M     55     13.5      43    0        52.3  84.3   \n",
       "8         Werder Bremen     58     13.9      58    3        51.2  80.0   \n",
       "9         Hertha Berlin     49     11.9      61    5        48.6  78.4   \n",
       "10             Mainz 05     46     14.6      56    0        46.9  77.1   \n",
       "11  Fortuna Duesseldorf     49     12.3      67    1        44.4  77.4   \n",
       "12           Schalke 04     37     12.2      71    5        46.9  76.3   \n",
       "13             Augsburg     51     13.4      55    1        46.8  74.5   \n",
       "14             Freiburg     46     12.5      51    3        45.4  78.2   \n",
       "15        VfB Stuttgart     32     12.0      62    5        46.8  75.7   \n",
       "16          Hannover 96     31     11.3      59    4        47.4  76.8   \n",
       "17            Nuernberg     26     10.6      57    4        44.1  76.0   \n",
       "\n",
       "    AerialsWon  Rating  \n",
       "0         15.7    7.03  \n",
       "1         22.4    6.96  \n",
       "2         14.0    6.93  \n",
       "3         16.6    6.88  \n",
       "4         15.9    6.87  \n",
       "5         24.6    6.83  \n",
       "6         18.9    6.81  \n",
       "7         13.2    6.76  \n",
       "8         18.1    6.75  \n",
       "9         20.9    6.74  \n",
       "10        19.6    6.70  \n",
       "11        18.7    6.67  \n",
       "12        18.0    6.65  \n",
       "13        20.0    6.65  \n",
       "14        16.9    6.64  \n",
       "15        21.9    6.57  \n",
       "16        18.6    6.57  \n",
       "17        19.0    6.49  "
      ]
     },
     "execution_count": 126,
     "metadata": {},
     "output_type": "execute_result"
    }
   ],
   "source": [
    "team_summary_data[0]"
   ]
  },
  {
   "cell_type": "code",
   "execution_count": 127,
   "id": "7761b073",
   "metadata": {},
   "outputs": [
    {
     "name": "stdout",
     "output_type": "stream",
     "text": [
      "(17, 17)\n",
      "(17, 22)\n",
      "(17, 26)\n",
      "(17, 17)\n",
      "(17, 22)\n",
      "(17, 26)\n",
      "(17, 17)\n",
      "(17, 22)\n",
      "(17, 26)\n",
      "(17, 17)\n",
      "(17, 22)\n",
      "(17, 26)\n",
      "(17, 17)\n",
      "(17, 22)\n",
      "(17, 26)\n"
     ]
    }
   ],
   "source": [
    "team_merged_data_list = []\n",
    "\n",
    "for i in range(5):\n",
    "    tmp1 = pd.merge(team_table_data[i], team_summary_data[i], on='Team', how='inner')\n",
    "    print(tmp1.shape)\n",
    "    tmp2 = pd.merge(tmp1, team_def_data[i], on='Team', how='inner')\n",
    "    print(tmp2.shape)\n",
    "    tmp3 = pd.merge(tmp2, team_off_data[i], on='Team', how='inner')\n",
    "    print(tmp3.shape)\n",
    "    \n",
    "    team_merged_data_list.append(tmp3)"
   ]
  },
  {
   "cell_type": "code",
   "execution_count": 128,
   "id": "2159ebd9",
   "metadata": {},
   "outputs": [
    {
     "data": {
      "text/plain": [
       "Index(['Team', 'P', 'W', 'D', 'L', 'GF', 'GA', 'GD', 'Pts', 'Goals', 'Shotspg',\n",
       "       'Yellow', 'Red', 'Possession', 'Pass', 'AerialsWon', 'Rating',\n",
       "       'def_Shotspg', 'def_Tacklespg', 'def_Interceptionspg', 'def_Foulspg',\n",
       "       'def_Offsidespg', 'of_Shotspg', 'of_ShotsOTpg', 'of_Dribblespg',\n",
       "       'of_Fouledpg'],\n",
       "      dtype='object')"
      ]
     },
     "execution_count": 128,
     "metadata": {},
     "output_type": "execute_result"
    }
   ],
   "source": [
    "team_merged_data_list[0].columns"
   ]
  },
  {
   "cell_type": "code",
   "execution_count": 129,
   "id": "0e0383f8",
   "metadata": {},
   "outputs": [],
   "source": [
    "team_merged_data_list[0].to_csv('18_19_BL_Team.csv')\n",
    "team_merged_data_list[1].to_csv('19_20_BL_Team.csv')\n",
    "team_merged_data_list[2].to_csv('20_21_BL_Team.csv')\n",
    "team_merged_data_list[3].to_csv('21_22_BL_Team.csv')\n",
    "team_merged_data_list[4].to_csv('22_23_BL_Team.csv')"
   ]
  },
  {
   "cell_type": "code",
   "execution_count": null,
   "id": "ba564ecd",
   "metadata": {},
   "outputs": [],
   "source": []
  },
  {
   "cell_type": "code",
   "execution_count": null,
   "id": "f57d4a69",
   "metadata": {},
   "outputs": [],
   "source": []
  },
  {
   "cell_type": "code",
   "execution_count": null,
   "id": "7336979a",
   "metadata": {},
   "outputs": [],
   "source": []
  },
  {
   "cell_type": "code",
   "execution_count": null,
   "id": "944e0e1c",
   "metadata": {},
   "outputs": [],
   "source": []
  },
  {
   "cell_type": "code",
   "execution_count": null,
   "id": "1fc358b0",
   "metadata": {},
   "outputs": [],
   "source": []
  },
  {
   "cell_type": "code",
   "execution_count": null,
   "id": "de9b772e",
   "metadata": {},
   "outputs": [],
   "source": []
  },
  {
   "cell_type": "code",
   "execution_count": null,
   "id": "3f85c5c9",
   "metadata": {},
   "outputs": [],
   "source": []
  },
  {
   "cell_type": "code",
   "execution_count": null,
   "id": "c54995bf",
   "metadata": {},
   "outputs": [],
   "source": []
  },
  {
   "cell_type": "code",
   "execution_count": null,
   "id": "1f921e0a",
   "metadata": {},
   "outputs": [],
   "source": []
  },
  {
   "cell_type": "code",
   "execution_count": null,
   "id": "16970456",
   "metadata": {},
   "outputs": [],
   "source": []
  },
  {
   "cell_type": "code",
   "execution_count": null,
   "id": "9dc866cd",
   "metadata": {},
   "outputs": [],
   "source": []
  },
  {
   "cell_type": "code",
   "execution_count": null,
   "id": "e006791c",
   "metadata": {},
   "outputs": [],
   "source": []
  },
  {
   "cell_type": "code",
   "execution_count": null,
   "id": "89c65a27",
   "metadata": {},
   "outputs": [],
   "source": []
  },
  {
   "cell_type": "code",
   "execution_count": null,
   "id": "c55b4179",
   "metadata": {},
   "outputs": [],
   "source": []
  }
 ],
 "metadata": {
  "kernelspec": {
   "display_name": "Python 3 (ipykernel)",
   "language": "python",
   "name": "python3"
  },
  "language_info": {
   "codemirror_mode": {
    "name": "ipython",
    "version": 3
   },
   "file_extension": ".py",
   "mimetype": "text/x-python",
   "name": "python",
   "nbconvert_exporter": "python",
   "pygments_lexer": "ipython3",
   "version": "3.11.7"
  }
 },
 "nbformat": 4,
 "nbformat_minor": 5
}
